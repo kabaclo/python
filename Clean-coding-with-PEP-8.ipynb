{
 "cells": [
  {
   "cell_type": "markdown",
   "metadata": {},
   "source": [
    "<div align=\"center\" style=\" font-size: 80%; text-align: center; margin: 0 auto\">\n",
    "<img src=\"https://raw.githubusercontent.com/Explore-AI/Pictures/master/Python-Notebook-Banners/Examples.png\"  style=\"display: block; margin-left: auto; margin-right: auto;\";/>\n",
    "</div>"
   ]
  },
  {
   "cell_type": "markdown",
   "id": "f662d169",
   "metadata": {},
   "source": [
    "# Clean coding with PEP 8\n",
    "© ExploreAI Academy"
   ]
  },
  {
   "cell_type": "markdown",
   "id": "26af890c",
   "metadata": {},
   "source": [
    "In this train, we shall delve into the world of Python coding standards, focusing on the renowned PEP 8 style guide. This guide is more than merely a set of rules; it is a pathway to writing Python code that is clean, readable, and professional. Our journey will take us through the core principles of PEP 8, aiding our understanding of not just the 'how', but also the 'why' behind each guideline."
   ]
  },
  {
   "cell_type": "markdown",
   "id": "2d230d14",
   "metadata": {
    "tags": []
   },
   "source": [
    "## Learning objectives\n",
    "In this train, we will learn how to:\n",
    "\n",
    "- Write clean code that follows PEP 8 guidelines.\n",
    "- Design code to be readable.\n",
    "- Correctly implement indentation and follow the recommended format used for comments.\n",
    "- Write docstrings in an appropriate format and utilise PEP 8 naming conventions for variable names."
   ]
  },
  {
   "cell_type": "markdown",
   "metadata": {},
   "source": [
    "## Introduction"
   ]
  },
  {
   "cell_type": "markdown",
   "id": "4d037b2c",
   "metadata": {},
   "source": [
    "As we embark on the journey of writing code, it's essential to familiarise ourselves with guidelines and concepts regarding code styling. The art of coding transcends the mere act of typing words and expecting them to compile; the format and style of these words are of paramount importance. In the same manner that poorly punctuated text hinders comprehension, poorly formatted code challenges readability. To enhance the readability of our code, we shall turn to the Python Enhancement Proposal (PEP), specifically PEP 8.\n",
    "\n",
    "Below, there is an image serving as a PEP 8 Cheat Sheet. Throughout this train, we will delve deeper into each of these elements.\n",
    "\n",
    "<div align=\"center\" style=\" font-size: 80%; text-align: center; margin: 0 auto\">\n",
    "<img src=\"https://github.com/Explore-AI/Pictures/blob/master/PEP_8_Guide.jpg?raw=true\"  style=\"display: block; margin-left: auto; margin-right: auto;\";/>\n",
    "</div>\n",
    "\n",
    "Each line of code we've seen up to this point in the course is according to PEP 8, so the guidelines below are just formalising what we've seen.\n",
    "\n",
    "PEP 8 guidelines are just that – **guidelines**. They **should be broken** if it improves **readability** and doesn't break **compatibility**, but we have to **apply it consistently**."
   ]
  },
  {
   "cell_type": "markdown",
   "id": "01275d92",
   "metadata": {},
   "source": [
    "## Why is it important?\n",
    "Data scientists, like other software developers, benefit greatly from learning and implementing coding best practices. Here's why:\n",
    "\n",
    "1. **Code reusability and reproducibility**: Data science involves a lot of exploratory work where a particular analysis might need to be run multiple times with slight variations. Well-structured and properly documented code is easier to understand, reuse, and reproduce, which is crucial in data science projects.\n",
    "\n",
    "2. **Collaboration**: Data science is typically a team effort, and having a consistent coding style makes it easier for different team members to understand each other's code. This leads to more efficient collaboration and less time spent deciphering what a piece of code does.\n",
    "\n",
    "3. **Maintenance and debugging**: Data science projects are not always 'one-off' analyses. Models might need to be updated, bugs might need to be fixed, or new data might need to be incorporated. Following best practices makes maintaining and debugging code significantly easier.\n",
    "\n",
    "4. **Scaling and performance**: As data grows in volume and complexity, code that follows best practices tends to be more efficient and easier to scale. This is especially important for data scientists working with big data.\n",
    "\n",
    "5. **Professional development**: Understanding and implementing best coding practices helps data scientists write higher-quality code. This could increase their employability and offer more opportunities for growth within their current roles.\n",
    "\n",
    "6. **Communication of results**: The ultimate goal of most data science projects is to inform decision-making. High-quality, well-structured code helps ensure that the results are reliable and accurate, which is critical for gaining trust and effectively communicating results to stakeholders.\n",
    "\n",
    "In essence, for data scientists, following coding best practices is not just about writing good code. It's also about ensuring the reliability and credibility of their findings and making their work more efficient and impactful."
   ]
  },
  {
   "cell_type": "markdown",
   "id": "bed59a11",
   "metadata": {},
   "source": [
    "## Design principles"
   ]
  },
  {
   "cell_type": "markdown",
   "id": "6799a0a0",
   "metadata": {},
   "source": [
    "### Write self-explanatory code\n",
    "\n",
    "Our code should behave in a way that's least surprising to others. This principle helps other programmers understand and predict the behaviour of our code."
   ]
  },
  {
   "cell_type": "markdown",
   "id": "79ec5b0e",
   "metadata": {},
   "source": [
    "Not simple or self-explanatory ❌:"
   ]
  },
  {
   "cell_type": "code",
   "execution_count": 1,
   "id": "1c56b6d0",
   "metadata": {},
   "outputs": [],
   "source": [
    "def proc(x):\n",
    "    return x ** 3 - 2 * x + 5"
   ]
  },
  {
   "cell_type": "markdown",
   "id": "b4a35e9f",
   "metadata": {},
   "source": [
    "- The function name 'proc' is vague and doesn't convey the function's purpose.\n",
    "\n",
    "- The formula inside the function lacks context, making it unclear what it's calculating or representing."
   ]
  },
  {
   "cell_type": "markdown",
   "id": "ea2c075a",
   "metadata": {},
   "source": [
    "Simple and self-explanatory ✅:"
   ]
  },
  {
   "cell_type": "code",
   "execution_count": 2,
   "id": "6864d726",
   "metadata": {},
   "outputs": [],
   "source": [
    "def calculate_cubic_polynomial(x):\n",
    "    coefficient_a = 1\n",
    "    coefficient_b = -2\n",
    "    constant = 5\n",
    "    cubic_term = coefficient_a * x ** 3\n",
    "    linear_term = coefficient_b * x\n",
    "    polynomial_value = cubic_term + linear_term + constant\n",
    "    return polynomial_value"
   ]
  },
  {
   "cell_type": "markdown",
   "id": "1835ecd9",
   "metadata": {},
   "source": [
    "- The function name 'calculate_cubic_polynomial' clearly describes its purpose.\n",
    "\n",
    "- By breaking down the polynomial into clearly named variables, the code becomes more readable and understandable. It's evident that it's computing a cubic polynomial value."
   ]
  },
  {
   "cell_type": "markdown",
   "id": "236171b4",
   "metadata": {},
   "source": [
    "### DRY (don't repeat yourself)\n",
    "\n",
    "If we find ourselves writing the same code in multiple places, it's usually better to encapsulate it in a function or class and reuse it."
   ]
  },
  {
   "cell_type": "markdown",
   "id": "48b5c0ba",
   "metadata": {},
   "source": [
    "❌ Repeating code:"
   ]
  },
  {
   "cell_type": "code",
   "execution_count": 3,
   "id": "6ac54d59",
   "metadata": {},
   "outputs": [
    {
     "ename": "NameError",
     "evalue": "name 'list1' is not defined",
     "output_type": "error",
     "traceback": [
      "\u001b[1;31m---------------------------------------------------------------------------\u001b[0m",
      "\u001b[1;31mNameError\u001b[0m                                 Traceback (most recent call last)",
      "Cell \u001b[1;32mIn[3], line 2\u001b[0m\n\u001b[0;32m      1\u001b[0m \u001b[38;5;66;03m# Calculating square of numbers in two different lists\u001b[39;00m\n\u001b[1;32m----> 2\u001b[0m squares_list1 \u001b[38;5;241m=\u001b[39m [i \u001b[38;5;241m*\u001b[39m\u001b[38;5;241m*\u001b[39m \u001b[38;5;241m2\u001b[39m \u001b[38;5;28;01mfor\u001b[39;00m i \u001b[38;5;129;01min\u001b[39;00m list1]\n\u001b[0;32m      3\u001b[0m squares_list2 \u001b[38;5;241m=\u001b[39m [i \u001b[38;5;241m*\u001b[39m\u001b[38;5;241m*\u001b[39m \u001b[38;5;241m2\u001b[39m \u001b[38;5;28;01mfor\u001b[39;00m i \u001b[38;5;129;01min\u001b[39;00m list2]\n",
      "\u001b[1;31mNameError\u001b[0m: name 'list1' is not defined"
     ]
    }
   ],
   "source": [
    "# Calculating square of numbers in two different lists\n",
    "squares_list1 = [i ** 2 for i in list1]\n",
    "squares_list2 = [i ** 2 for i in list2]"
   ]
  },
  {
   "cell_type": "markdown",
   "id": "58552d33",
   "metadata": {},
   "source": [
    "✅ DRY applied:"
   ]
  },
  {
   "cell_type": "code",
   "execution_count": 4,
   "id": "4e5044be",
   "metadata": {},
   "outputs": [
    {
     "ename": "NameError",
     "evalue": "name 'list1' is not defined",
     "output_type": "error",
     "traceback": [
      "\u001b[1;31m---------------------------------------------------------------------------\u001b[0m",
      "\u001b[1;31mNameError\u001b[0m                                 Traceback (most recent call last)",
      "Cell \u001b[1;32mIn[4], line 4\u001b[0m\n\u001b[0;32m      1\u001b[0m \u001b[38;5;28;01mdef\u001b[39;00m \u001b[38;5;21mcalculate_squares\u001b[39m(numbers_list):\n\u001b[0;32m      2\u001b[0m     \u001b[38;5;28;01mreturn\u001b[39;00m [i \u001b[38;5;241m*\u001b[39m\u001b[38;5;241m*\u001b[39m \u001b[38;5;241m2\u001b[39m \u001b[38;5;28;01mfor\u001b[39;00m i \u001b[38;5;129;01min\u001b[39;00m numbers_list]\n\u001b[1;32m----> 4\u001b[0m squares_list1 \u001b[38;5;241m=\u001b[39m calculate_squares(list1)\n\u001b[0;32m      5\u001b[0m squares_list2 \u001b[38;5;241m=\u001b[39m calculate_squares(list2)\n",
      "\u001b[1;31mNameError\u001b[0m: name 'list1' is not defined"
     ]
    }
   ],
   "source": [
    "def calculate_squares(numbers_list):\n",
    "    return [i ** 2 for i in numbers_list]\n",
    "\n",
    "squares_list1 = calculate_squares(list1)\n",
    "squares_list2 = calculate_squares(list2)"
   ]
  },
  {
   "cell_type": "markdown",
   "id": "b3861b47",
   "metadata": {},
   "source": [
    "## Code layout"
   ]
  },
  {
   "cell_type": "markdown",
   "id": "24aeda5f",
   "metadata": {},
   "source": [
    "### Indentation\n",
    "\n",
    "**Use four spaces per indentation level.** Python allows indentation of a single space, but to keep code consistent, PEP 8 requires four spaces as an indent, and most coding environments will automatically use four."
   ]
  },
  {
   "cell_type": "markdown",
   "id": "40636667",
   "metadata": {},
   "source": [
    "❌ Incorrect:"
   ]
  },
  {
   "cell_type": "code",
   "execution_count": 5,
   "id": "a81e19a7",
   "metadata": {},
   "outputs": [],
   "source": [
    "def incorrect_function():\n",
    " return 'Incorrect indentation'"
   ]
  },
  {
   "cell_type": "markdown",
   "id": "275edaff",
   "metadata": {},
   "source": [
    "✅ Correct:"
   ]
  },
  {
   "cell_type": "code",
   "execution_count": 6,
   "id": "1949e9e1",
   "metadata": {},
   "outputs": [],
   "source": [
    "def correct_function():\n",
    "    return 'Correct indentation'"
   ]
  },
  {
   "cell_type": "markdown",
   "id": "43447888",
   "metadata": {},
   "source": [
    "### Blank lines"
   ]
  },
  {
   "cell_type": "markdown",
   "id": "8dc986e7",
   "metadata": {},
   "source": [
    "Use blank lines sparingly. They should separate functions and classes and larger blocks of code inside functions."
   ]
  },
  {
   "cell_type": "markdown",
   "id": "bc2cec52",
   "metadata": {},
   "source": [
    "❌ Incorrect:"
   ]
  },
  {
   "cell_type": "code",
   "execution_count": 7,
   "id": "ba6774ed",
   "metadata": {},
   "outputs": [],
   "source": [
    "def a():\n",
    "    return 'a'\n",
    "def b():\n",
    "    return 'b'"
   ]
  },
  {
   "cell_type": "markdown",
   "id": "d801513a",
   "metadata": {},
   "source": [
    "✅ Correct:"
   ]
  },
  {
   "cell_type": "code",
   "execution_count": 8,
   "id": "e071a474",
   "metadata": {},
   "outputs": [],
   "source": [
    "def a():\n",
    "    return 'a'\n",
    "\n",
    "def b():\n",
    "    return 'b'"
   ]
  },
  {
   "cell_type": "markdown",
   "id": "9fdc3344",
   "metadata": {},
   "source": [
    "### Maximum line length\n",
    "\n",
    "Limit all lines to a maximum of 79 characters."
   ]
  },
  {
   "cell_type": "markdown",
   "id": "584ee476",
   "metadata": {},
   "source": [
    "❌ Incorrect:"
   ]
  },
  {
   "cell_type": "code",
   "execution_count": 9,
   "id": "42ae616a",
   "metadata": {},
   "outputs": [
    {
     "ename": "SyntaxError",
     "evalue": "incomplete input (790877776.py, line 1)",
     "output_type": "error",
     "traceback": [
      "\u001b[1;36m  Cell \u001b[1;32mIn[9], line 1\u001b[1;36m\u001b[0m\n\u001b[1;33m    def long_function_name(var_one, var_two, var_three, var_four, var_five, var_six):\u001b[0m\n\u001b[1;37m                                                                                     ^\u001b[0m\n\u001b[1;31mSyntaxError\u001b[0m\u001b[1;31m:\u001b[0m incomplete input\n"
     ]
    }
   ],
   "source": [
    "def long_function_name(var_one, var_two, var_three, var_four, var_five, var_six):"
   ]
  },
  {
   "cell_type": "markdown",
   "id": "cfb84c85",
   "metadata": {},
   "source": [
    "✅ Correct:"
   ]
  },
  {
   "cell_type": "code",
   "execution_count": 10,
   "id": "b7d79f4d",
   "metadata": {},
   "outputs": [
    {
     "ename": "SyntaxError",
     "evalue": "incomplete input (2136708480.py, line 2)",
     "output_type": "error",
     "traceback": [
      "\u001b[1;36m  Cell \u001b[1;32mIn[10], line 2\u001b[1;36m\u001b[0m\n\u001b[1;33m    var_four, var_five, var_six):\u001b[0m\n\u001b[1;37m                                 ^\u001b[0m\n\u001b[1;31mSyntaxError\u001b[0m\u001b[1;31m:\u001b[0m incomplete input\n"
     ]
    }
   ],
   "source": [
    "def long_function_name(var_one, var_two, var_three, \n",
    "                       var_four, var_five, var_six):"
   ]
  },
  {
   "cell_type": "markdown",
   "id": "5ab2d181",
   "metadata": {},
   "source": [
    "### Parameters on their own line\n",
    "\n",
    "When defining functions with many parameters, especially in cases where the line length exceeds the recommended maximum (such as 79 characters in PEP 8), it's good practice to place parameters on their own lines. This approach enhances readability and maintainability."
   ]
  },
  {
   "cell_type": "markdown",
   "id": "7236584b",
   "metadata": {},
   "source": [
    "❌ Incorrect:"
   ]
  },
  {
   "cell_type": "code",
   "execution_count": 11,
   "id": "e2e25f76",
   "metadata": {},
   "outputs": [],
   "source": [
    "def process_data(input_data, data_format, error_handling, log_level, output_type, verbose_mode):\n",
    "    # Function implementation\n",
    "    pass"
   ]
  },
  {
   "cell_type": "markdown",
   "id": "0a2cc0fc",
   "metadata": {},
   "source": [
    "- This line exceeds the recommended maximum length, making it hard to read.\n",
    "- It can also cause horizontal scrolling in editors, hindering readability."
   ]
  },
  {
   "cell_type": "markdown",
   "id": "ba5c7bf2",
   "metadata": {},
   "source": [
    "✅ Correct:"
   ]
  },
  {
   "cell_type": "code",
   "execution_count": 12,
   "id": "2b9c9cfd",
   "metadata": {},
   "outputs": [],
   "source": [
    "def process_data(input_data, \n",
    "                 data_format, \n",
    "                 error_handling, \n",
    "                 log_level, \n",
    "                 output_type, \n",
    "                 verbose_mode):\n",
    "    # Function implementation\n",
    "    pass"
   ]
  },
  {
   "cell_type": "markdown",
   "id": "cd4f9056",
   "metadata": {},
   "source": [
    "- Each parameter is on its own line, which makes the function signature easy to read.\n",
    "- It adheres to the line length guidelines and is more maintainable."
   ]
  },
  {
   "cell_type": "markdown",
   "id": "093eba21",
   "metadata": {},
   "source": [
    "### Line breaks\n",
    "\n",
    "It's recommended to break before binary operators to improve readability."
   ]
  },
  {
   "cell_type": "markdown",
   "id": "ec52247e",
   "metadata": {},
   "source": [
    "❌ Incorrect:"
   ]
  },
  {
   "cell_type": "code",
   "execution_count": 13,
   "id": "63457d98",
   "metadata": {},
   "outputs": [
    {
     "ename": "NameError",
     "evalue": "name 'gross_wages' is not defined",
     "output_type": "error",
     "traceback": [
      "\u001b[1;31m---------------------------------------------------------------------------\u001b[0m",
      "\u001b[1;31mNameError\u001b[0m                                 Traceback (most recent call last)",
      "Cell \u001b[1;32mIn[13], line 1\u001b[0m\n\u001b[1;32m----> 1\u001b[0m income \u001b[38;5;241m=\u001b[39m (gross_wages \u001b[38;5;241m+\u001b[39m\n\u001b[0;32m      2\u001b[0m           taxable_interest \u001b[38;5;241m+\u001b[39m\n\u001b[0;32m      3\u001b[0m           (dividends \u001b[38;5;241m-\u001b[39m qualified_dividends) \u001b[38;5;241m-\u001b[39m\n\u001b[0;32m      4\u001b[0m           ira_deduction \u001b[38;5;241m-\u001b[39m\n\u001b[0;32m      5\u001b[0m           student_loan_interest)\n",
      "\u001b[1;31mNameError\u001b[0m: name 'gross_wages' is not defined"
     ]
    }
   ],
   "source": [
    "income = (gross_wages +\n",
    "          taxable_interest +\n",
    "          (dividends - qualified_dividends) -\n",
    "          ira_deduction -\n",
    "          student_loan_interest)"
   ]
  },
  {
   "cell_type": "markdown",
   "id": "6dc91d07",
   "metadata": {},
   "source": [
    "✅ Correct:"
   ]
  },
  {
   "cell_type": "code",
   "execution_count": 14,
   "id": "f957cbb1",
   "metadata": {},
   "outputs": [
    {
     "ename": "NameError",
     "evalue": "name 'gross_wages' is not defined",
     "output_type": "error",
     "traceback": [
      "\u001b[1;31m---------------------------------------------------------------------------\u001b[0m",
      "\u001b[1;31mNameError\u001b[0m                                 Traceback (most recent call last)",
      "Cell \u001b[1;32mIn[14], line 1\u001b[0m\n\u001b[1;32m----> 1\u001b[0m income \u001b[38;5;241m=\u001b[39m (gross_wages \n\u001b[0;32m      2\u001b[0m          \u001b[38;5;241m+\u001b[39m taxable_interest\n\u001b[0;32m      3\u001b[0m          \u001b[38;5;241m+\u001b[39m (dividends \u001b[38;5;241m-\u001b[39m qualified_dividends) \n\u001b[0;32m      4\u001b[0m          \u001b[38;5;241m-\u001b[39m ira_deduction\n\u001b[0;32m      5\u001b[0m          \u001b[38;5;241m-\u001b[39m student_loan_interest)\n",
      "\u001b[1;31mNameError\u001b[0m: name 'gross_wages' is not defined"
     ]
    }
   ],
   "source": [
    "income = (gross_wages \n",
    "         + taxable_interest\n",
    "         + (dividends - qualified_dividends) \n",
    "         - ira_deduction\n",
    "         - student_loan_interest)"
   ]
  },
  {
   "cell_type": "markdown",
   "id": "76281a10",
   "metadata": {},
   "source": [
    "### Whitespace in expressions and statements"
   ]
  },
  {
   "cell_type": "markdown",
   "id": "bd77e222",
   "metadata": {},
   "source": [
    "Surround operators with a single space on either side of the operator."
   ]
  },
  {
   "cell_type": "markdown",
   "id": "524f21aa",
   "metadata": {},
   "source": [
    "❌ Incorrect:"
   ]
  },
  {
   "cell_type": "code",
   "execution_count": 15,
   "id": "f62381bd",
   "metadata": {},
   "outputs": [],
   "source": [
    "x=10\n",
    "x+=5\n",
    "y=x<20\n",
    "data = [x for x in range(10) if x>5]\n",
    "flag = x==10 and y!=0"
   ]
  },
  {
   "cell_type": "markdown",
   "id": "b219148b",
   "metadata": {},
   "source": [
    "It is hard to identify the operators used in this code."
   ]
  },
  {
   "cell_type": "markdown",
   "id": "d1018f69",
   "metadata": {},
   "source": [
    "✅ Correct:"
   ]
  },
  {
   "cell_type": "code",
   "execution_count": 16,
   "id": "1149e0e5",
   "metadata": {},
   "outputs": [],
   "source": [
    "x = 10\n",
    "x += 5\n",
    "y = x < 20\n",
    "data = [x for x in range(10) if x > 5]\n",
    "flag = x == 10 and y != 0"
   ]
  },
  {
   "cell_type": "markdown",
   "id": "8956707e",
   "metadata": {},
   "source": [
    "It is simpler to identify which operators are used in this code."
   ]
  },
  {
   "cell_type": "markdown",
   "id": "244991b1",
   "metadata": {},
   "source": [
    "## Commenting\n",
    "\n",
    "Comments allow the reader of the code to follow along and see what the author intends to convey. This can be helpful when people change projects and new people have to work on projects they know nothing about.\n",
    "\n",
    "Generally, there are two types of comments: **inline** and **block**. Python uses the hash symbol, noted as `#`, for comments. The intended use of comments is to:\n",
    "\n",
    "- Explain **assumptions made** in that line of code. \n",
    "- Include **important details** in a line of code that we're trying to solve with our code. \n",
    "\n",
    "A rule of thumb to keep in mind is: *Code tells you how, comments should tell you why.*"
   ]
  },
  {
   "cell_type": "markdown",
   "id": "bc2c692b",
   "metadata": {},
   "source": [
    "### Inline comments:\n",
    "\n",
    "Inline comments are comments that are on the same line as a statement. PEP 8 suggests **using inline comments sparingly**.\n",
    "An inline comment should be **separated** by at least **two spaces** from the statement. They should *start* with a `#` followed by a **single space**.\n",
    "Inline **comments are useful for clarifying complex pieces of code** or providing quick annotations where necessary. However, the **code should be as self-explanatory as possible**, reducing the need for extensive inline comments."
   ]
  },
  {
   "cell_type": "markdown",
   "id": "e1315f0e",
   "metadata": {},
   "source": [
    "❌ Incorrect:"
   ]
  },
  {
   "cell_type": "code",
   "execution_count": 17,
   "id": "011e272b",
   "metadata": {},
   "outputs": [
    {
     "ename": "NameError",
     "evalue": "name 'calculate_position' is not defined",
     "output_type": "error",
     "traceback": [
      "\u001b[1;31m---------------------------------------------------------------------------\u001b[0m",
      "\u001b[1;31mNameError\u001b[0m                                 Traceback (most recent call last)",
      "Cell \u001b[1;32mIn[17], line 3\u001b[0m\n\u001b[0;32m      1\u001b[0m x \u001b[38;5;241m=\u001b[39m x \u001b[38;5;241m+\u001b[39m \u001b[38;5;241m1\u001b[39m \u001b[38;5;66;03m#Increment x, it's important for UI alignment\u001b[39;00m\n\u001b[0;32m      2\u001b[0m y \u001b[38;5;241m=\u001b[39m y \u001b[38;5;241m+\u001b[39m \u001b[38;5;241m2\u001b[39m \u001b[38;5;66;03m#Now increment y, for vertical spacing\u001b[39;00m\n\u001b[1;32m----> 3\u001b[0m calculate_position(x, y) \u001b[38;5;66;03m#This calls the function to calculate position. It's very crucial for layout.\u001b[39;00m\n\u001b[0;32m      4\u001b[0m update_display()\n",
      "\u001b[1;31mNameError\u001b[0m: name 'calculate_position' is not defined"
     ]
    }
   ],
   "source": [
    "x = x + 1 #Increment x, it's important for UI alignment\n",
    "y = y + 2 #Now increment y, for vertical spacing\n",
    "calculate_position(x, y) #This calls the function to calculate position. It's very crucial for layout.\n",
    "update_display() #This will update the display with new positions. It's part of the refresh cycle."
   ]
  },
  {
   "cell_type": "markdown",
   "id": "e60cf803",
   "metadata": {},
   "source": [
    "Each comment is crammed next to the code with insufficient spacing, and every line of code is followed by an unnecessary comment that often states the obvious. The comments are verbose and don't add much value."
   ]
  },
  {
   "cell_type": "markdown",
   "id": "3bf2b061",
   "metadata": {},
   "source": [
    "✅ Correct:"
   ]
  },
  {
   "cell_type": "code",
   "execution_count": 18,
   "id": "37ab046d",
   "metadata": {},
   "outputs": [
    {
     "ename": "NameError",
     "evalue": "name 'calculate_position' is not defined",
     "output_type": "error",
     "traceback": [
      "\u001b[1;31m---------------------------------------------------------------------------\u001b[0m",
      "\u001b[1;31mNameError\u001b[0m                                 Traceback (most recent call last)",
      "Cell \u001b[1;32mIn[18], line 4\u001b[0m\n\u001b[0;32m      1\u001b[0m x \u001b[38;5;241m=\u001b[39m x \u001b[38;5;241m+\u001b[39m \u001b[38;5;241m1\u001b[39m  \u001b[38;5;66;03m# Adjust position for UI alignment\u001b[39;00m\n\u001b[0;32m      2\u001b[0m y \u001b[38;5;241m=\u001b[39m y \u001b[38;5;241m+\u001b[39m \u001b[38;5;241m2\u001b[39m  \n\u001b[1;32m----> 4\u001b[0m calculate_position(x, y) \u001b[38;5;66;03m# Calculate and update the position in the display\u001b[39;00m\n\u001b[0;32m      5\u001b[0m update_display()\n",
      "\u001b[1;31mNameError\u001b[0m: name 'calculate_position' is not defined"
     ]
    }
   ],
   "source": [
    "\n",
    "x = x + 1  # Adjust position for UI alignment\n",
    "y = y + 2  \n",
    "\n",
    "calculate_position(x, y) # Calculate and update the position in the display\n",
    "update_display()"
   ]
  },
  {
   "cell_type": "markdown",
   "id": "690820dc",
   "metadata": {},
   "source": [
    "Comments are used sparingly and effectively. They are well spaced from the code, and each comment provides a clear, concise overview of what the following lines of code are meant to accomplish. This style is cleaner and more in line with PEP 8 guidelines, aiding in readability and maintainability."
   ]
  },
  {
   "cell_type": "markdown",
   "id": "75f08260",
   "metadata": {},
   "source": [
    "### Block comments\n",
    "\n",
    "Block comments are used to explain the code that follows them and are **written on their own line(s)**.\n",
    "Each line of a block comment starts with a `#` and a **single space**, and should be at the **same indentation level** as the code it describes.\n",
    "Block comments are useful for providing more detailed explanations or for **summarising a section of code**."
   ]
  },
  {
   "cell_type": "markdown",
   "id": "f5c9af99",
   "metadata": {},
   "source": [
    "❌ Incorrect:"
   ]
  },
  {
   "cell_type": "code",
   "execution_count": 19,
   "id": "48d68e50",
   "metadata": {},
   "outputs": [
    {
     "ename": "FileNotFoundError",
     "evalue": "[Errno 2] No such file or directory: 'data.csv'",
     "output_type": "error",
     "traceback": [
      "\u001b[1;31m---------------------------------------------------------------------------\u001b[0m",
      "\u001b[1;31mFileNotFoundError\u001b[0m                         Traceback (most recent call last)",
      "Cell \u001b[1;32mIn[19], line 5\u001b[0m\n\u001b[0;32m      1\u001b[0m \u001b[38;5;66;03m# This section of code is for loading the dataset\u001b[39;00m\n\u001b[0;32m      2\u001b[0m \u001b[38;5;66;03m# We are using pandas to read a CSV file\u001b[39;00m\n\u001b[0;32m      3\u001b[0m \u001b[38;5;66;03m# The file name is 'data.csv'\u001b[39;00m\n\u001b[0;32m      4\u001b[0m \u001b[38;5;28;01mimport\u001b[39;00m \u001b[38;5;21;01mpandas\u001b[39;00m \u001b[38;5;28;01mas\u001b[39;00m \u001b[38;5;21;01mpd\u001b[39;00m\n\u001b[1;32m----> 5\u001b[0m dataset \u001b[38;5;241m=\u001b[39m pd\u001b[38;5;241m.\u001b[39mread_csv(\u001b[38;5;124m'\u001b[39m\u001b[38;5;124mdata.csv\u001b[39m\u001b[38;5;124m'\u001b[39m)\n\u001b[0;32m      7\u001b[0m \u001b[38;5;66;03m# Now we are going to clean the dataset\u001b[39;00m\n\u001b[0;32m      8\u001b[0m \u001b[38;5;66;03m# We will remove null values\u001b[39;00m\n\u001b[0;32m      9\u001b[0m \u001b[38;5;66;03m# Dropping rows with any missing value\u001b[39;00m\n\u001b[0;32m     10\u001b[0m dataset \u001b[38;5;241m=\u001b[39m dataset\u001b[38;5;241m.\u001b[39mdropna()\n",
      "File \u001b[1;32mc:\\Users\\c.kabanda\\AppData\\Local\\anaconda3\\Lib\\site-packages\\pandas\\io\\parsers\\readers.py:1026\u001b[0m, in \u001b[0;36mread_csv\u001b[1;34m(filepath_or_buffer, sep, delimiter, header, names, index_col, usecols, dtype, engine, converters, true_values, false_values, skipinitialspace, skiprows, skipfooter, nrows, na_values, keep_default_na, na_filter, verbose, skip_blank_lines, parse_dates, infer_datetime_format, keep_date_col, date_parser, date_format, dayfirst, cache_dates, iterator, chunksize, compression, thousands, decimal, lineterminator, quotechar, quoting, doublequote, escapechar, comment, encoding, encoding_errors, dialect, on_bad_lines, delim_whitespace, low_memory, memory_map, float_precision, storage_options, dtype_backend)\u001b[0m\n\u001b[0;32m   1013\u001b[0m kwds_defaults \u001b[38;5;241m=\u001b[39m _refine_defaults_read(\n\u001b[0;32m   1014\u001b[0m     dialect,\n\u001b[0;32m   1015\u001b[0m     delimiter,\n\u001b[1;32m   (...)\u001b[0m\n\u001b[0;32m   1022\u001b[0m     dtype_backend\u001b[38;5;241m=\u001b[39mdtype_backend,\n\u001b[0;32m   1023\u001b[0m )\n\u001b[0;32m   1024\u001b[0m kwds\u001b[38;5;241m.\u001b[39mupdate(kwds_defaults)\n\u001b[1;32m-> 1026\u001b[0m \u001b[38;5;28;01mreturn\u001b[39;00m _read(filepath_or_buffer, kwds)\n",
      "File \u001b[1;32mc:\\Users\\c.kabanda\\AppData\\Local\\anaconda3\\Lib\\site-packages\\pandas\\io\\parsers\\readers.py:620\u001b[0m, in \u001b[0;36m_read\u001b[1;34m(filepath_or_buffer, kwds)\u001b[0m\n\u001b[0;32m    617\u001b[0m _validate_names(kwds\u001b[38;5;241m.\u001b[39mget(\u001b[38;5;124m\"\u001b[39m\u001b[38;5;124mnames\u001b[39m\u001b[38;5;124m\"\u001b[39m, \u001b[38;5;28;01mNone\u001b[39;00m))\n\u001b[0;32m    619\u001b[0m \u001b[38;5;66;03m# Create the parser.\u001b[39;00m\n\u001b[1;32m--> 620\u001b[0m parser \u001b[38;5;241m=\u001b[39m TextFileReader(filepath_or_buffer, \u001b[38;5;241m*\u001b[39m\u001b[38;5;241m*\u001b[39mkwds)\n\u001b[0;32m    622\u001b[0m \u001b[38;5;28;01mif\u001b[39;00m chunksize \u001b[38;5;129;01mor\u001b[39;00m iterator:\n\u001b[0;32m    623\u001b[0m     \u001b[38;5;28;01mreturn\u001b[39;00m parser\n",
      "File \u001b[1;32mc:\\Users\\c.kabanda\\AppData\\Local\\anaconda3\\Lib\\site-packages\\pandas\\io\\parsers\\readers.py:1620\u001b[0m, in \u001b[0;36mTextFileReader.__init__\u001b[1;34m(self, f, engine, **kwds)\u001b[0m\n\u001b[0;32m   1617\u001b[0m     \u001b[38;5;28mself\u001b[39m\u001b[38;5;241m.\u001b[39moptions[\u001b[38;5;124m\"\u001b[39m\u001b[38;5;124mhas_index_names\u001b[39m\u001b[38;5;124m\"\u001b[39m] \u001b[38;5;241m=\u001b[39m kwds[\u001b[38;5;124m\"\u001b[39m\u001b[38;5;124mhas_index_names\u001b[39m\u001b[38;5;124m\"\u001b[39m]\n\u001b[0;32m   1619\u001b[0m \u001b[38;5;28mself\u001b[39m\u001b[38;5;241m.\u001b[39mhandles: IOHandles \u001b[38;5;241m|\u001b[39m \u001b[38;5;28;01mNone\u001b[39;00m \u001b[38;5;241m=\u001b[39m \u001b[38;5;28;01mNone\u001b[39;00m\n\u001b[1;32m-> 1620\u001b[0m \u001b[38;5;28mself\u001b[39m\u001b[38;5;241m.\u001b[39m_engine \u001b[38;5;241m=\u001b[39m \u001b[38;5;28mself\u001b[39m\u001b[38;5;241m.\u001b[39m_make_engine(f, \u001b[38;5;28mself\u001b[39m\u001b[38;5;241m.\u001b[39mengine)\n",
      "File \u001b[1;32mc:\\Users\\c.kabanda\\AppData\\Local\\anaconda3\\Lib\\site-packages\\pandas\\io\\parsers\\readers.py:1880\u001b[0m, in \u001b[0;36mTextFileReader._make_engine\u001b[1;34m(self, f, engine)\u001b[0m\n\u001b[0;32m   1878\u001b[0m     \u001b[38;5;28;01mif\u001b[39;00m \u001b[38;5;124m\"\u001b[39m\u001b[38;5;124mb\u001b[39m\u001b[38;5;124m\"\u001b[39m \u001b[38;5;129;01mnot\u001b[39;00m \u001b[38;5;129;01min\u001b[39;00m mode:\n\u001b[0;32m   1879\u001b[0m         mode \u001b[38;5;241m+\u001b[39m\u001b[38;5;241m=\u001b[39m \u001b[38;5;124m\"\u001b[39m\u001b[38;5;124mb\u001b[39m\u001b[38;5;124m\"\u001b[39m\n\u001b[1;32m-> 1880\u001b[0m \u001b[38;5;28mself\u001b[39m\u001b[38;5;241m.\u001b[39mhandles \u001b[38;5;241m=\u001b[39m get_handle(\n\u001b[0;32m   1881\u001b[0m     f,\n\u001b[0;32m   1882\u001b[0m     mode,\n\u001b[0;32m   1883\u001b[0m     encoding\u001b[38;5;241m=\u001b[39m\u001b[38;5;28mself\u001b[39m\u001b[38;5;241m.\u001b[39moptions\u001b[38;5;241m.\u001b[39mget(\u001b[38;5;124m\"\u001b[39m\u001b[38;5;124mencoding\u001b[39m\u001b[38;5;124m\"\u001b[39m, \u001b[38;5;28;01mNone\u001b[39;00m),\n\u001b[0;32m   1884\u001b[0m     compression\u001b[38;5;241m=\u001b[39m\u001b[38;5;28mself\u001b[39m\u001b[38;5;241m.\u001b[39moptions\u001b[38;5;241m.\u001b[39mget(\u001b[38;5;124m\"\u001b[39m\u001b[38;5;124mcompression\u001b[39m\u001b[38;5;124m\"\u001b[39m, \u001b[38;5;28;01mNone\u001b[39;00m),\n\u001b[0;32m   1885\u001b[0m     memory_map\u001b[38;5;241m=\u001b[39m\u001b[38;5;28mself\u001b[39m\u001b[38;5;241m.\u001b[39moptions\u001b[38;5;241m.\u001b[39mget(\u001b[38;5;124m\"\u001b[39m\u001b[38;5;124mmemory_map\u001b[39m\u001b[38;5;124m\"\u001b[39m, \u001b[38;5;28;01mFalse\u001b[39;00m),\n\u001b[0;32m   1886\u001b[0m     is_text\u001b[38;5;241m=\u001b[39mis_text,\n\u001b[0;32m   1887\u001b[0m     errors\u001b[38;5;241m=\u001b[39m\u001b[38;5;28mself\u001b[39m\u001b[38;5;241m.\u001b[39moptions\u001b[38;5;241m.\u001b[39mget(\u001b[38;5;124m\"\u001b[39m\u001b[38;5;124mencoding_errors\u001b[39m\u001b[38;5;124m\"\u001b[39m, \u001b[38;5;124m\"\u001b[39m\u001b[38;5;124mstrict\u001b[39m\u001b[38;5;124m\"\u001b[39m),\n\u001b[0;32m   1888\u001b[0m     storage_options\u001b[38;5;241m=\u001b[39m\u001b[38;5;28mself\u001b[39m\u001b[38;5;241m.\u001b[39moptions\u001b[38;5;241m.\u001b[39mget(\u001b[38;5;124m\"\u001b[39m\u001b[38;5;124mstorage_options\u001b[39m\u001b[38;5;124m\"\u001b[39m, \u001b[38;5;28;01mNone\u001b[39;00m),\n\u001b[0;32m   1889\u001b[0m )\n\u001b[0;32m   1890\u001b[0m \u001b[38;5;28;01massert\u001b[39;00m \u001b[38;5;28mself\u001b[39m\u001b[38;5;241m.\u001b[39mhandles \u001b[38;5;129;01mis\u001b[39;00m \u001b[38;5;129;01mnot\u001b[39;00m \u001b[38;5;28;01mNone\u001b[39;00m\n\u001b[0;32m   1891\u001b[0m f \u001b[38;5;241m=\u001b[39m \u001b[38;5;28mself\u001b[39m\u001b[38;5;241m.\u001b[39mhandles\u001b[38;5;241m.\u001b[39mhandle\n",
      "File \u001b[1;32mc:\\Users\\c.kabanda\\AppData\\Local\\anaconda3\\Lib\\site-packages\\pandas\\io\\common.py:873\u001b[0m, in \u001b[0;36mget_handle\u001b[1;34m(path_or_buf, mode, encoding, compression, memory_map, is_text, errors, storage_options)\u001b[0m\n\u001b[0;32m    868\u001b[0m \u001b[38;5;28;01melif\u001b[39;00m \u001b[38;5;28misinstance\u001b[39m(handle, \u001b[38;5;28mstr\u001b[39m):\n\u001b[0;32m    869\u001b[0m     \u001b[38;5;66;03m# Check whether the filename is to be opened in binary mode.\u001b[39;00m\n\u001b[0;32m    870\u001b[0m     \u001b[38;5;66;03m# Binary mode does not support 'encoding' and 'newline'.\u001b[39;00m\n\u001b[0;32m    871\u001b[0m     \u001b[38;5;28;01mif\u001b[39;00m ioargs\u001b[38;5;241m.\u001b[39mencoding \u001b[38;5;129;01mand\u001b[39;00m \u001b[38;5;124m\"\u001b[39m\u001b[38;5;124mb\u001b[39m\u001b[38;5;124m\"\u001b[39m \u001b[38;5;129;01mnot\u001b[39;00m \u001b[38;5;129;01min\u001b[39;00m ioargs\u001b[38;5;241m.\u001b[39mmode:\n\u001b[0;32m    872\u001b[0m         \u001b[38;5;66;03m# Encoding\u001b[39;00m\n\u001b[1;32m--> 873\u001b[0m         handle \u001b[38;5;241m=\u001b[39m \u001b[38;5;28mopen\u001b[39m(\n\u001b[0;32m    874\u001b[0m             handle,\n\u001b[0;32m    875\u001b[0m             ioargs\u001b[38;5;241m.\u001b[39mmode,\n\u001b[0;32m    876\u001b[0m             encoding\u001b[38;5;241m=\u001b[39mioargs\u001b[38;5;241m.\u001b[39mencoding,\n\u001b[0;32m    877\u001b[0m             errors\u001b[38;5;241m=\u001b[39merrors,\n\u001b[0;32m    878\u001b[0m             newline\u001b[38;5;241m=\u001b[39m\u001b[38;5;124m\"\u001b[39m\u001b[38;5;124m\"\u001b[39m,\n\u001b[0;32m    879\u001b[0m         )\n\u001b[0;32m    880\u001b[0m     \u001b[38;5;28;01melse\u001b[39;00m:\n\u001b[0;32m    881\u001b[0m         \u001b[38;5;66;03m# Binary mode\u001b[39;00m\n\u001b[0;32m    882\u001b[0m         handle \u001b[38;5;241m=\u001b[39m \u001b[38;5;28mopen\u001b[39m(handle, ioargs\u001b[38;5;241m.\u001b[39mmode)\n",
      "\u001b[1;31mFileNotFoundError\u001b[0m: [Errno 2] No such file or directory: 'data.csv'"
     ]
    }
   ],
   "source": [
    "# This section of code is for loading the dataset\n",
    "# We are using pandas to read a CSV file\n",
    "# The file name is 'data.csv'\n",
    "import pandas as pd\n",
    "dataset = pd.read_csv('data.csv')\n",
    "\n",
    "# Now we are going to clean the dataset\n",
    "# We will remove null values\n",
    "# Dropping rows with any missing value\n",
    "dataset = dataset.dropna()"
   ]
  },
  {
   "cell_type": "markdown",
   "id": "f2c57bdb",
   "metadata": {},
   "source": [
    "These comments are redundant and simply describe the actions line by line, which are already clear from the code itself. They don't provide additional insight or rationale behind the steps."
   ]
  },
  {
   "cell_type": "markdown",
   "id": "632d786f",
   "metadata": {},
   "source": [
    "❌ Incorrect:"
   ]
  },
  {
   "cell_type": "code",
   "execution_count": 20,
   "id": "59e5f7e3",
   "metadata": {},
   "outputs": [
    {
     "name": "stdout",
     "output_type": "stream",
     "text": [
      "['orange', 'grape', 'pear', 'strawberry', 'banana', 'apple']\n"
     ]
    }
   ],
   "source": [
    "#Load the dataset\n",
    "dataset = ['Apple', 'Pear', 'Orange', '', 'Strawberry   ', 'Banana', '  Grape  ']\n",
    "\n",
    "#Data cleaning process\n",
    "#Now we're going to clean the dataset by removing empty strings.\n",
    "dataset = [fruit for fruit in dataset if fruit.strip()]\n",
    "\n",
    "#Next, we'll remove all the spaces from the data.\n",
    "dataset = [fruit.strip() for fruit in dataset]\n",
    "\n",
    "#Then we make everything lowercase, so it looks uniform.\n",
    "dataset = [fruit.lower() for fruit in dataset]\n",
    "\n",
    "#Finally, we'll get rid of duplicates because we don't need them.\n",
    "dataset = list(set(dataset))\n",
    "\n",
    "#Here's what we have now\n",
    "print(dataset)\n"
   ]
  },
  {
   "cell_type": "markdown",
   "id": "a43e0135",
   "metadata": {},
   "source": [
    "The comments in this example are somewhat informal and don't add much value. They tend to state the obvious, merely describing what the code does rather than explaining why these steps are important in the context of data cleaning. This lacks the depth and professionalism expected in a data science context."
   ]
  },
  {
   "cell_type": "markdown",
   "id": "c3b27b52",
   "metadata": {},
   "source": [
    "✅ Correct:"
   ]
  },
  {
   "cell_type": "code",
   "execution_count": 21,
   "id": "9a8b9e50",
   "metadata": {},
   "outputs": [
    {
     "name": "stdout",
     "output_type": "stream",
     "text": [
      "['orange', 'grape', 'pear', 'strawberry', 'banana', 'apple']\n"
     ]
    }
   ],
   "source": [
    "dataset = ['Apple', 'Pear', 'Orange', '', 'Strawberry   ', 'Banana', '  Grape  ']\n",
    "\n",
    "# Data cleaning process\n",
    "# Step 1: Remove empty rows\n",
    "# Empty rows can skew analysis, so removing them is crucial for data accuracy.\n",
    "dataset = [fruit for fruit in dataset if fruit.strip()]\n",
    "\n",
    "# Step 2: Trim whitespace from data\n",
    "# Uniformity in data is key; removing extra spaces enhances data consistency.\n",
    "dataset = [fruit.strip() for fruit in dataset]\n",
    "\n",
    "# Step 3: Standardize text format\n",
    "# Consistency in text format, like lowercase, ensures better data comparability.\n",
    "dataset = [fruit.lower() for fruit in dataset]\n",
    "\n",
    "# Step 4: Remove duplicate entries\n",
    "# Duplicates can distort analysis, so they're removed for data reliability.\n",
    "dataset = list(set(dataset))\n",
    "\n",
    "print(dataset)\n"
   ]
  },
  {
   "cell_type": "markdown",
   "id": "f572e9a9",
   "metadata": {},
   "source": [
    "Each comment provides context and explains the purpose of the step in the data cleaning process, enhancing understanding without being overly verbose."
   ]
  },
  {
   "cell_type": "markdown",
   "id": "27489008",
   "metadata": {},
   "source": [
    "### Docstrings\n",
    "\n",
    "One requirement for good code is for methods, classes, and functions to have docstrings. Docstrings, or documentation strings, are strings enclosed between two sets of triple quotation marks. We can use either single or double quotes here, but we can't mix them. Docstrings appear on the first line of any function, class, method, or module and are used to explain and document a block of code.\n"
   ]
  },
  {
   "cell_type": "markdown",
   "id": "dc1ece89",
   "metadata": {},
   "source": [
    "❌ Incorrect:"
   ]
  },
  {
   "cell_type": "code",
   "execution_count": 22,
   "id": "4dfe7668",
   "metadata": {},
   "outputs": [],
   "source": [
    "def square(num):\n",
    "    # This function squares a number.\n",
    "    return num ** 2"
   ]
  },
  {
   "cell_type": "markdown",
   "id": "e61afe47",
   "metadata": {},
   "source": [
    "This is a comment, not a docstring. It fails to use the triple quotation marks and does not fully document the function's purpose, parameters, and return value."
   ]
  },
  {
   "cell_type": "markdown",
   "id": "fac05980",
   "metadata": {},
   "source": [
    "✅ Correct:"
   ]
  },
  {
   "cell_type": "code",
   "execution_count": 23,
   "id": "e13af6b2",
   "metadata": {},
   "outputs": [],
   "source": [
    "def square(num):\n",
    "    \"\"\"\n",
    "    Calculate the square of a number.\n",
    "\n",
    "    Args:\n",
    "        num (int or float): The number to be squared.\n",
    "\n",
    "    Returns:\n",
    "        int or float: The square of the input number.\n",
    "    \"\"\"\n",
    "    return num ** 2"
   ]
  },
  {
   "cell_type": "markdown",
   "id": "fb15cbb5",
   "metadata": {},
   "source": [
    "This docstring:\n",
    "\n",
    "- Starts immediately below the function definition.\n",
    "\n",
    "- Is enclosed within triple double quotes (\"\"\").\n",
    "\n",
    "- Clearly explains the purpose of the function.\n",
    "\n",
    "- Includes an 'Args' section detailing the argument, its expected type, and description.\n",
    "\n",
    "- Includes a 'Returns' section explaining the type and description of the return value."
   ]
  },
  {
   "cell_type": "markdown",
   "id": "22d81e1c",
   "metadata": {},
   "source": [
    "## Naming conventions\n",
    "\n",
    "In Python, adopting consistent naming conventions as outlined in PEP 8 enhances code readability and maintainability. Here's a concise overview:\n",
    "\n",
    "**Variables:** Use lowercase with underscores to separate word: `starting_amount`\n",
    "\n",
    "**Constants:** Name constants in all uppercase with underscores separating words. `MAX_ITEMS`\n",
    "\n",
    "**Classes:** Use CamelCase convention for class names. `RegressionModel`"
   ]
  },
  {
   "cell_type": "markdown",
   "id": "d337c8d9",
   "metadata": {},
   "source": [
    "❌ Incorrect:"
   ]
  },
  {
   "cell_type": "code",
   "execution_count": 24,
   "id": "e69e734b",
   "metadata": {},
   "outputs": [],
   "source": [
    "class shoppingCart:\n",
    "    maxItems = 10\n",
    "\n",
    "    def __init__(self):\n",
    "        self.ItemList = []\n",
    "\n",
    "    def AddItem(self, Item):\n",
    "        if len(self.ItemList) < shoppingCart.maxItems:\n",
    "            self.ItemList.append(Item)\n",
    "\n",
    "ShoppingCart = shoppingCart()\n",
    "ShoppingCart.AddItem('Apple')"
   ]
  },
  {
   "cell_type": "markdown",
   "id": "e27e7b30",
   "metadata": {},
   "source": [
    "It is hard to understand what `shoppingCart` or `maxItems` is in the line `shoppingCart.maxItems`. One is a constant value while the other is a class object. "
   ]
  },
  {
   "cell_type": "markdown",
   "id": "e340a59b",
   "metadata": {},
   "source": [
    "✅ Correct:"
   ]
  },
  {
   "cell_type": "code",
   "execution_count": null,
   "id": "3ddbf2ee",
   "metadata": {},
   "outputs": [],
   "source": [
    "class ShoppingCart:\n",
    "    MAX_ITEMS = 10\n",
    "\n",
    "    def __init__(self):\n",
    "        self.item_list = []\n",
    "\n",
    "    def add_item(self, item):\n",
    "        if len(self.item_list) < ShoppingCart.MAX_ITEMS:\n",
    "            self.item_list.append(item)\n",
    "\n",
    "shopping_cart = ShoppingCart()\n",
    "shopping_cart.add_item('Apple')"
   ]
  },
  {
   "cell_type": "code",
   "execution_count": 25,
   "id": "cffb03b1",
   "metadata": {},
   "outputs": [],
   "source": [
    "def bubble_sort(items):\n",
    "    for i in range(len(items)):\n",
    "        for j in range(len(items)-1-i):\n",
    "            if items[j] > items[j+1]:\n",
    "                # Swap the elements if the current element is greater than the next one\n",
    "                items[j], items[j+1] = items[j+1], items[j]\n",
    "    return items"
   ]
  },
  {
   "cell_type": "code",
   "execution_count": 29,
   "id": "4f145461",
   "metadata": {},
   "outputs": [
    {
     "data": {
      "text/plain": [
       "[11, 12, 22, 25, 34, 64, 90]"
      ]
     },
     "execution_count": 29,
     "metadata": {},
     "output_type": "execute_result"
    }
   ],
   "source": [
    "bubble_sort([64, 34, 25, 12, 22, 11, 90])"
   ]
  },
  {
   "cell_type": "code",
   "execution_count": 37,
   "id": "6ab74a85",
   "metadata": {},
   "outputs": [],
   "source": [
    "class BankAccount:\n",
    "    def __init__(self, balance):\n",
    "       self.balance = balance\n",
    "    def deposit(self, amount):\n",
    "        self.balance += amount\n",
    "\n"
   ]
  },
  {
   "cell_type": "code",
   "execution_count": 38,
   "id": "f8966175",
   "metadata": {},
   "outputs": [],
   "source": [
    "account_n = BankAccount(100)\n",
    "account_n.deposit(50)\n"
   ]
  },
  {
   "cell_type": "code",
   "execution_count": 39,
   "id": "b23a9479",
   "metadata": {},
   "outputs": [
    {
     "name": "stdout",
     "output_type": "stream",
     "text": [
      "150\n"
     ]
    }
   ],
   "source": [
    "print(account_n.balance)"
   ]
  },
  {
   "cell_type": "code",
   "execution_count": 40,
   "id": "8be10b90",
   "metadata": {},
   "outputs": [],
   "source": [
    "def r(s):\n",
    "    if len(s) == 0:\n",
    "        return s\n",
    "    return r(s[1:]) + s[0]\n",
    "\n"
   ]
  },
  {
   "cell_type": "code",
   "execution_count": 46,
   "id": "882aa0b4",
   "metadata": {},
   "outputs": [
    {
     "data": {
      "text/plain": [
       "True"
      ]
     },
     "execution_count": 46,
     "metadata": {},
     "output_type": "execute_result"
    }
   ],
   "source": [
    "r('programming') == 'gnimmargorp'"
   ]
  },
  {
   "cell_type": "code",
   "execution_count": 47,
   "id": "7da69a6d",
   "metadata": {},
   "outputs": [
    {
     "name": "stdout",
     "output_type": "stream",
     "text": [
      "[-2, -9, -1]\n"
     ]
    }
   ],
   "source": [
    "numbers = [-2, 5, -9, 8, -1, 10]\n",
    "result = filter(lambda x: x < 0, numbers)\n",
    "print(list(result))"
   ]
  },
  {
   "cell_type": "code",
   "execution_count": 48,
   "id": "c67dc830",
   "metadata": {},
   "outputs": [],
   "source": [
    "class Circle:\n",
    "    def __init__(self, radius):\n",
    "        self.radius = radius\n",
    "    def circumference(self):\n",
    "        return 2 * 3.14159 * self.radius\n",
    "\n"
   ]
  },
  {
   "cell_type": "code",
   "execution_count": 50,
   "id": "2aa952e2",
   "metadata": {},
   "outputs": [
    {
     "data": {
      "text/plain": [
       "True"
      ]
     },
     "execution_count": 50,
     "metadata": {},
     "output_type": "execute_result"
    }
   ],
   "source": [
    "Circle(3).circumference() == 18.849539999999998"
   ]
  },
  {
   "cell_type": "code",
   "execution_count": 51,
   "id": "918534fe",
   "metadata": {},
   "outputs": [
    {
     "name": "stdout",
     "output_type": "stream",
     "text": [
      "Area: 12 Perimeter: 14\n"
     ]
    }
   ],
   "source": [
    "class Rectangle:\n",
    "    def __init__(self, width, height):\n",
    "        self.width = width\n",
    "        self.height = height\n",
    "    def perimeter(self):\n",
    "        return 2 * (self.width + self.height)\n",
    "    def area(self):\n",
    "        return self.width * self.height\n",
    "\n",
    "\n",
    "rect = Rectangle(3, 4)\n",
    "print(\"Area:\", rect.area(), \"Perimeter:\", rect.perimeter())\n"
   ]
  },
  {
   "cell_type": "code",
   "execution_count": 53,
   "id": "53640996",
   "metadata": {},
   "outputs": [
    {
     "name": "stdout",
     "output_type": "stream",
     "text": [
      "[1, 4, 9, 16, 25]\n"
     ]
    }
   ],
   "source": [
    "numbers = [1, 2, 3, 4, 5]\n",
    "result = map(lambda x: x**2, numbers)\n",
    "print(list(result))"
   ]
  },
  {
   "cell_type": "code",
   "execution_count": 61,
   "id": "4300551a",
   "metadata": {},
   "outputs": [
    {
     "name": "stdout",
     "output_type": "stream",
     "text": [
      "Total Area: 44.26\n"
     ]
    }
   ],
   "source": [
    "class Shape:\n",
    "    def __init__(self, name):\n",
    "        self.name = name\n",
    "\n",
    "class Circle(Shape):\n",
    "    def __init__(self, radius):\n",
    "        super().__init__(\"Circle\")\n",
    "        self.radius = radius\n",
    "\n",
    "    def area(self):\n",
    "        return 3.14 * self.radius * self.radius\n",
    "    \n",
    "class Square(Shape):\n",
    "    def __init__(self, side):\n",
    "        super().__init__(\"Square\")\n",
    "        self.side = side\n",
    "\n",
    "    def area(self):\n",
    "        return self.side * self.side\n",
    "\n",
    "circle = Circle(3)\n",
    "square = Square(4)\n",
    "total_area = circle.area() + square.area()\n",
    "print(\"Total Area:\", total_area)\n",
    " "
   ]
  },
  {
   "cell_type": "markdown",
   "id": "76a1327c",
   "metadata": {},
   "source": [
    "By using proper naming conventions, a colleague can quickly see that `ShoppingCart.MAX_ITEMS` refers to a class and a constant and that `shopping_cart` is a variable containing a class object `ShoppingCart()`."
   ]
  },
  {
   "cell_type": "markdown",
   "id": "b9436a90",
   "metadata": {},
   "source": [
    "## Summary\n",
    "\n",
    "As we conclude this journey through the essential principles of PEP 8 and good coding practices, it's important to reflect on the key insights gained. We delved into the world of Python coding standards, focusing on how to write code that is not only functional but also clean, readable, and professional. By embracing the guidelines of PEP 8, we learned the significance of well-structured code and the impact it has on maintainability and collaboration."
   ]
  },
  {
   "cell_type": "markdown",
   "id": "365a03cc",
   "metadata": {},
   "source": [
    "#  \n",
    "\n",
    "<div align=\"center\" style=\" font-size: 80%; text-align: center; margin: 0 auto\">\n",
    "<img src=\"https://raw.githubusercontent.com/Explore-AI/Pictures/master/ExploreAI_logos/EAI_Blue_Dark.png\"  style=\"width:200px\";/>\n",
    "</div>"
   ]
  }
 ],
 "metadata": {
  "kernelspec": {
   "display_name": "Python 3 (ipykernel)",
   "language": "python",
   "name": "python3"
  },
  "language_info": {
   "codemirror_mode": {
    "name": "ipython",
    "version": 3
   },
   "file_extension": ".py",
   "mimetype": "text/x-python",
   "name": "python",
   "nbconvert_exporter": "python",
   "pygments_lexer": "ipython3",
   "version": "3.12.4"
  }
 },
 "nbformat": 4,
 "nbformat_minor": 5
}
