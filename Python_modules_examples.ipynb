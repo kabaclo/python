{
 "cells": [
  {
   "cell_type": "markdown",
   "id": "1e8c3b42",
   "metadata": {},
   "source": [
    "<div align=\"center\" style=\" font-size: 80%; text-align: center; margin: 0 auto\">\n",
    "<img src=\"https://raw.githubusercontent.com/Explore-AI/Pictures/master/Python-Notebook-Banners/Examples.png\"  style=\"display: block; margin-left: auto; margin-right: auto;\";/>\n",
    "</div>"
   ]
  },
  {
   "cell_type": "markdown",
   "id": "f662d169",
   "metadata": {},
   "source": [
    "# Examples: Python modules\n",
    "© ExploreAI Academy"
   ]
  },
  {
   "cell_type": "markdown",
   "id": "26af890c",
   "metadata": {},
   "source": [
    "This notebook accompanies the walk-through video on Python modules and packages and also contains a few additional examples on how we can use modules. \n",
    "\n"
   ]
  },
  {
   "cell_type": "markdown",
   "id": "0e7ee70a",
   "metadata": {},
   "source": [
    "## Learning objectives\n",
    "In this train, we will learn how to:\n",
    "- Write a module and import all or specific objects from a module. \n",
    "- Import modules using an alias name and explore the use of built-in modules.\n",
    "\n",
    "\n",
    "## Outline\n",
    "To do this, we will:\n",
    "- Define the importance of modules and packages in programming.\n",
    "- Review the syntax and conventions for importing modules. \n",
    "- Consider the use of built-in Python modules."
   ]
  },
  {
   "cell_type": "markdown",
   "id": "3562c909",
   "metadata": {},
   "source": [
    "## Introduction\n",
    "Modular programming is a style of programming that promotes code reusability, allowing us to generate single pieces of code which can be used in multiple parts of a project – thus saving time and resources. The resulting code can be simpler to understand and maintain since components can be considered in isolation. In Python, **modularisation** is implemented using functions, modules, and packages.\n",
    "\n",
    "A **module** is a file consisting of Python code. A module can define functions, classes, variables, and runnable code. These modules can be imported and referenced from other Python code. A **Python package** (also referred to as a library) is a collection of hierarchically structured directories of Python code consisting of sub-packages and modules.\n",
    "\n",
    "Modules and packages are two mechanisms that facilitate modular programming. \n",
    "\n",
    "## Why modularisation? \n",
    "\n",
    "* **Reusability**: Eliminates the need to write new code, as functionality defined in a single module can be easily reused.\n",
    "\n",
    "\n",
    "* **Simplicity**: Modules generally tend to focus on a selected area of the problem which is usually small, rather than focusing on the entire problem at hand. Integrating the use of selected modules will result in systematically dealing with each small problem in the code, making development easier and less error-prone.\n",
    "\n",
    "\n",
    "* **Maintainability**: Modules in Python are often designed to be self-supporting. In this sense, one module does not depend entirely upon other modules to work. Therefore, it is unlikely that modifying a single module of a program will affect other parts of the program. This allows a team of many programmers or data scientists to work collaboratively on a large application."
   ]
  },
  {
   "cell_type": "markdown",
   "id": "e7c61c07",
   "metadata": {},
   "source": [
    "## Working with modules  \n",
    "\n",
    "### Creating modules\n",
    "Creating a module is as simple as saving a Python script with functions, classes, variables and running code. The file name is the module name with the suffix `.py` appended.\n",
    "\n",
    "### Importing modules \n",
    "We can access this module and its elements from a different Python file by using the `import` statement. \n",
    "* We can import a single module/package:\n",
    "\n",
    "    ```python\n",
    "    import <module_name>\n",
    "    ```\n",
    "\n",
    "* Import multiple modules using individual import statements:\n",
    "\n",
    "    ```python\n",
    "    import <module_1_name>\n",
    "    import <module_2_name>\n",
    "    import <module_3_name>\n",
    "    ...```\n",
    "    \n",
    "    \n",
    "                      \n",
    "The same rules apply when dealing with packages. We can import specific modules within a package by using dot notation. For this to work, we have to structure packages and modules in a way that reflects the hierarchy in the package directory.\n",
    "\n",
    "   ```python\n",
    "    import <package_name>.<sub_package_name>.<module_name>.<...>\n",
    "   ```\n",
    "\n",
    "Let's go ahead and create our own module, with the following three types of elements:\n",
    "\n",
    "*   A variable `s`\n",
    "*   A function `say_hi()`\n",
    "*   A class `Greet`"
   ]
  },
  {
   "cell_type": "code",
   "execution_count": 1,
   "id": "e87285b8",
   "metadata": {},
   "outputs": [],
   "source": [
    "# Contents of the module we are creating \n",
    "content = \"\"\"\n",
    "s = 'Hello ' \n",
    "\n",
    "def say_hi(name):\n",
    "    print(s + name)\n",
    "\n",
    "class Greet:\n",
    "    pass\n",
    "\"\"\"\n",
    "\n",
    "# Write the above text to a file called my_module.py\n",
    "# within our current working directory. \n",
    "with open('./my_module.py', 'w') as fp:\n",
    "    fp.write(content)"
   ]
  },
  {
   "cell_type": "markdown",
   "id": "ede20263",
   "metadata": {},
   "source": [
    "This command writes (or saves) our module into our working directory so that we can use it again."
   ]
  },
  {
   "cell_type": "code",
   "execution_count": 2,
   "id": "b34febe7",
   "metadata": {},
   "outputs": [],
   "source": [
    "#Import the module we've just made! \n",
    "import my_module "
   ]
  },
  {
   "cell_type": "markdown",
   "id": "d623b036",
   "metadata": {},
   "source": [
    "Even though we've imported our module, note that its contents (the variables and functions we've defined within the module) are not directly accessible to us. As such, attempting to access these elements will result in (namespace) errors being thrown. We can safely see such errors using a `try-except` block:"
   ]
  },
  {
   "cell_type": "code",
   "execution_count": 3,
   "id": "86288085",
   "metadata": {},
   "outputs": [
    {
     "name": "stdout",
     "output_type": "stream",
     "text": [
      "Variable 's' does not exist!\n"
     ]
    }
   ],
   "source": [
    "try:\n",
    "    # Try to print the variable s\n",
    "    print(s)\n",
    "except NameError:\n",
    "    # We've caught a NameError exception (error!)\n",
    "    # We inform the programmer (you) that the variable does not exist\n",
    "    print(\"Variable 's' does not exist!\")"
   ]
  },
  {
   "cell_type": "markdown",
   "id": "9b8b6b2e",
   "metadata": {},
   "source": [
    "Learning from this experience, it is important to know that objects in a module are only accessible when prefixed with via dot notation, as illustrated below. "
   ]
  },
  {
   "cell_type": "code",
   "execution_count": 4,
   "id": "e920ba1d",
   "metadata": {},
   "outputs": [
    {
     "data": {
      "text/plain": [
       "'Hello '"
      ]
     },
     "execution_count": 4,
     "metadata": {},
     "output_type": "execute_result"
    }
   ],
   "source": [
    "# Accessing the variable s in my_module\n",
    "my_module.s "
   ]
  },
  {
   "cell_type": "code",
   "execution_count": 5,
   "id": "af5bf12c",
   "metadata": {},
   "outputs": [
    {
     "name": "stdout",
     "output_type": "stream",
     "text": [
      "Hello Nelson\n"
     ]
    }
   ],
   "source": [
    "# Accessing the say_hi function in my_module\n",
    "my_module.say_hi('Nelson')"
   ]
  },
  {
   "cell_type": "markdown",
   "id": "32b5b877",
   "metadata": {},
   "source": [
    "### Example: Importing modules using an alias\n",
    "The `import` statement in Python also allows for the use of aliases when referencing a module. Using the `as` keyword, we can save ourselves from having to type otherwise long package names each time we need to access an object from a given module/package. This usually follows the following syntax:\n",
    "\n",
    "```python\n",
    "import <module_name> as <new_model_name>\n",
    "```\n",
    "or \n",
    "\n",
    "```python \n",
    "from <package_name> import <module_name> as <new_model_name>\n",
    "```\n",
    "\n",
    "For example:"
   ]
  },
  {
   "cell_type": "code",
   "execution_count": 6,
   "id": "a2253207",
   "metadata": {},
   "outputs": [],
   "source": [
    "# Alias for my_module\n",
    "import my_module as md"
   ]
  },
  {
   "cell_type": "markdown",
   "id": "94a12604",
   "metadata": {},
   "source": [
    "We can thus treat the alias as the new name for the module. "
   ]
  },
  {
   "cell_type": "code",
   "execution_count": 7,
   "id": "01824c3d",
   "metadata": {},
   "outputs": [
    {
     "data": {
      "text/plain": [
       "'Hello '"
      ]
     },
     "execution_count": 7,
     "metadata": {},
     "output_type": "execute_result"
    }
   ],
   "source": [
    "# Accessing the variable s using an alias\n",
    "md.s\n"
   ]
  },
  {
   "cell_type": "code",
   "execution_count": 8,
   "id": "34b57906",
   "metadata": {},
   "outputs": [
    {
     "name": "stdout",
     "output_type": "stream",
     "text": [
      "Hello Jabulani\n"
     ]
    }
   ],
   "source": [
    "# Accessing the say_hi function using an alias for my_module\n",
    "md.say_hi('Jabulani')"
   ]
  },
  {
   "cell_type": "code",
   "execution_count": 9,
   "id": "b5535f78",
   "metadata": {},
   "outputs": [
    {
     "data": {
      "text/plain": [
       "my_module.Greet"
      ]
     },
     "execution_count": 9,
     "metadata": {},
     "output_type": "execute_result"
    }
   ],
   "source": [
    "# Accessing the empty class, Greet\n",
    "md.Greet"
   ]
  },
  {
   "cell_type": "markdown",
   "id": "0c700f86",
   "metadata": {},
   "source": [
    "### Example: Importing modules directly\n",
    "Another way to access specific objects in a module is to use the `from` keyword and import them directly:\n",
    "\n",
    "```python \n",
    "from <module_name> import <x, y, z>\n",
    "``` "
   ]
  },
  {
   "cell_type": "code",
   "execution_count": 10,
   "id": "fe38039e",
   "metadata": {},
   "outputs": [],
   "source": [
    "from my_module import s, say_hi, Greet"
   ]
  },
  {
   "cell_type": "code",
   "execution_count": 11,
   "id": "52f51d01",
   "metadata": {},
   "outputs": [
    {
     "data": {
      "text/plain": [
       "'Hello '"
      ]
     },
     "execution_count": 11,
     "metadata": {},
     "output_type": "execute_result"
    }
   ],
   "source": [
    "s"
   ]
  },
  {
   "cell_type": "code",
   "execution_count": 12,
   "id": "d45550ec",
   "metadata": {},
   "outputs": [
    {
     "name": "stdout",
     "output_type": "stream",
     "text": [
      "Hello Jabulani\n"
     ]
    }
   ],
   "source": [
    "say_hi('Jabulani')"
   ]
  },
  {
   "cell_type": "code",
   "execution_count": 13,
   "id": "6f53499c",
   "metadata": {},
   "outputs": [
    {
     "data": {
      "text/plain": [
       "my_module.Greet"
      ]
     },
     "execution_count": 13,
     "metadata": {},
     "output_type": "execute_result"
    }
   ],
   "source": [
    "Greet"
   ]
  },
  {
   "cell_type": "markdown",
   "id": "e5472586",
   "metadata": {},
   "source": [
    "We can see that using the `from xx import yy` structure provides access to the individual elements in the module without having to use dot notation. However, using aliases is the recommended way of importing modules and packages, as this prevents potential confusion when different modules contain functions or classes with the same name.\n",
    "\n",
    "To select all objects from a module we can use the following command, where the asterisk **( * )** *signifies all* :\n",
    "\n",
    "```python\n",
    "from <module_name> import*\n",
    "```\n",
    "Let's see this in practice one more time: "
   ]
  },
  {
   "cell_type": "code",
   "execution_count": 14,
   "id": "d4083840",
   "metadata": {},
   "outputs": [],
   "source": [
    "from my_module import * "
   ]
  },
  {
   "cell_type": "markdown",
   "id": "c3b09505",
   "metadata": {},
   "source": [
    "Now we have access to all our module contents."
   ]
  },
  {
   "cell_type": "code",
   "execution_count": 15,
   "id": "bb7c4281",
   "metadata": {},
   "outputs": [
    {
     "name": "stdout",
     "output_type": "stream",
     "text": [
      "Hello Joanne\n"
     ]
    }
   ],
   "source": [
    "say_hi('Joanne')"
   ]
  },
  {
   "cell_type": "code",
   "execution_count": 16,
   "id": "712a1bb4",
   "metadata": {},
   "outputs": [
    {
     "data": {
      "text/plain": [
       "my_module.Greet"
      ]
     },
     "execution_count": 16,
     "metadata": {},
     "output_type": "execute_result"
    }
   ],
   "source": [
    "Greet"
   ]
  },
  {
   "cell_type": "markdown",
   "id": "650b646a",
   "metadata": {},
   "source": [
    "## Built-in modules \n",
    "Python contains a large number of what are known as 'built-in' modules. These modules can be accessed in Python programs by simply importing them using their name preceded by the keyword `import`. \n",
    "\n",
    "Each built-in module contains resources for certain system-specific functionalities such as operating system management, disk input-output, etc. Python scripts (with the **.py** extension) containing useful utilities are embedded within the standard library. \n",
    "\n",
    "To **display a list of all available modules**, use the following command:\n",
    "\n",
    "`help('modules')`"
   ]
  },
  {
   "cell_type": "code",
   "execution_count": 17,
   "id": "82f12084",
   "metadata": {
    "scrolled": false
   },
   "outputs": [
    {
     "name": "stdout",
     "output_type": "stream",
     "text": [
      "\n",
      "Please wait a moment while I gather a list of all available modules...\n",
      "\n"
     ]
    },
    {
     "name": "stderr",
     "output_type": "stream",
     "text": [
      "c:\\Users\\c.kabanda\\AppData\\Local\\anaconda3\\Lib\\site-packages\\paramiko\\transport.py:219: CryptographyDeprecationWarning: Blowfish has been deprecated and will be removed in a future release\n",
      "  \"class\": algorithms.Blowfish,\n",
      "c:\\Users\\c.kabanda\\AppData\\Local\\anaconda3\\Lib\\site-packages\\nltk\\twitter\\__init__.py:20: UserWarning: The twython library has not been installed. Some functionality from the twitter package will not be available.\n",
      "  warnings.warn(\n",
      "c:\\Users\\c.kabanda\\AppData\\Local\\anaconda3\\Lib\\pkgutil.py:78: UserWarning: The numpy.array_api submodule is still experimental. See NEP 47.\n",
      "  __import__(info.name)\n",
      "No QCoreApplication instance found. Application patches not applied. You have to call load_stylesheet function after instantiation of QApplication to take effect. \n"
     ]
    },
    {
     "name": "stdout",
     "output_type": "stream",
     "text": [
      "7f0197f6d050da244d93__mypyc codeop              mdit_py_plugins     smmap\n",
      "IPython             collections         mdurl               smtplib\n",
      "OpenSSL             colorama            menuinst            snappy\n",
      "PIL                 colorcet            mimetypes           sndhdr\n",
      "PyQt5               colorsys            mistune             sniffio\n",
      "__future__          comm                mkl                 snowballstemmer\n",
      "__hello__           commctrl            mkl_fft             socket\n",
      "__phello__          compileall          mmap                socketserver\n",
      "_abc                concurrent          mmapfile            socks\n",
      "_aix_support        conda               mmsystem            sockshandler\n",
      "_argon2_cffi_bindings conda_build         modulefinder        sortedcontainers\n",
      "_ast                conda_content_trust more_itertools      soupsieve\n",
      "_asyncio            conda_env           mpmath              sphinx\n",
      "_bisect             conda_index         msal                spyder\n",
      "_black_version      conda_libmamba_solver msal_extensions     spyder_kernels\n",
      "_blake2             conda_pack          msgpack             sql\n",
      "_brotli             conda_package_handling msilib              sqlalchemy\n",
      "_bz2                conda_package_streaming msvcrt              sqlite3\n",
      "_cffi_backend       conda_token         multidict           sqlparse\n",
      "_codecs             configparser        multipledispatch    sre_compile\n",
      "_codecs_cn          constantly          multiprocessing     sre_constants\n",
      "_codecs_hk          contextlib          my_module           sre_parse\n",
      "_codecs_iso2022     contextvars         mypy                ssl\n",
      "_codecs_jp          contourpy           mypy_extensions     sspi\n",
      "_codecs_kr          cookiecutter        mypyc               sspicon\n",
      "_codecs_tw          copy                nacl                stack_data\n",
      "_collections        copyreg             navigator_updater   stat\n",
      "_collections_abc    cpuinfo             nbclient            statistics\n",
      "_compat_pickle      crypt               nbconvert           statsmodels\n",
      "_compression        cryptography        nbformat            streamlit\n",
      "_contextvars        cssselect           nest_asyncio        string\n",
      "_csv                csv                 netbios             stringprep\n",
      "_ctypes             ctypes              netrc               struct\n",
      "_ctypes_test        curl                networkx            subprocess\n",
      "_datetime           curses              nltk                sunau\n",
      "_decimal            cwp                 nntplib             sympy\n",
      "_distutils_hack     cycler              notebook            symtable\n",
      "_elementtree        cytoolz             notebook_shim       sys\n",
      "_functools          dask                nt                  sysconfig\n",
      "_hashlib            dask_expr           ntpath              tables\n",
      "_heapq              dataclasses         ntsecuritycon       tabnanny\n",
      "_imp                datashader          nturl2path          tabulate\n",
      "_io                 datetime            numba               tarfile\n",
      "_json               dateutil            numbergen           tblib\n",
      "_locale             dbi                 numbers             telnetlib\n",
      "_lsprof             dbm                 numexpr             tempfile\n",
      "_lzma               dde                 numpy               tenacity\n",
      "_markupbase         debugpy             numpydoc            terminado\n",
      "_md5                decimal             odbc                test\n",
      "_msi                decorator           opcode              test_pycosat\n",
      "_multibytecodec     defusedxml          openpyxl            text_unidecode\n",
      "_multiprocessing    diff_match_patch    operator            textdistance\n",
      "_nsis               difflib             optparse            textwrap\n",
      "_opcode             dill                os                  this\n",
      "_operator           dis                 overrides           threading\n",
      "_osx_support        distributed         packaging           threadpoolctl\n",
      "_overlapped         distro              pandas              three_merge\n",
      "_pickle             docstring_to_markdown pandocfilters       tifffile\n",
      "_plotly_future_     doctest             panel               time\n",
      "_plotly_utils       docutils            param               timeit\n",
      "_py_abc             dotenv              paramiko            timer\n",
      "_pydatetime         email               parsel              tinycss2\n",
      "_pydecimal          encodings           parso               tkinter\n",
      "_pyio               ensurepip           partd               tldextract\n",
      "_pylong             entrypoints         pathlib             tlz\n",
      "_pytest             enum                pathspec            token\n",
      "_queue              erfa                patsy               tokenize\n",
      "_random             errno               pdb                 toml\n",
      "_sha1               et_xmlfile          perfmon             tomli\n",
      "_sha2               executing           pexpect             tomlkit\n",
      "_sha3               fastjsonschema      pickle              tomllib\n",
      "_signal             faulthandler        pickleshare         toolz\n",
      "_sitebuiltins       filecmp             pickletools         tornado\n",
      "_socket             fileinput           pip                 tqdm\n",
      "_sqlite3            filelock            pipes               trace\n",
      "_sre                flake8              pkce                traceback\n",
      "_ssl                flask               pkg_resources       tracemalloc\n",
      "_stat               fnmatch             pkginfo             traitlets\n",
      "_statistics         fontTools           pkgutil             truststore\n",
      "_string             fractions           platform            tty\n",
      "_strptime           frozendict          platformdirs        turtle\n",
      "_struct             frozenlist          plistlib            turtledemo\n",
      "_symtable           fsspec              plotly              twisted\n",
      "_system_path        ftplib              pluggy              types\n",
      "_testbuffer         functools           ply                 typing\n",
      "_testcapi           gc                  poplib              typing_extensions\n",
      "_testclinic         genericpath         portalocker         tzdata\n",
      "_testconsole        gensim              posixpath           uc_micro\n",
      "_testimportmultiple getopt              pprint              ujson\n",
      "_testinternalcapi   getpass             prettytable         unicodedata\n",
      "_testmultiphase     gettext             profile             unicodedata2\n",
      "_testsinglephase    git                 prometheus_client   unidecode\n",
      "_thread             gitdb               prompt_toolkit      unittest\n",
      "_threading_local    glob                protego             urllib\n",
      "_tkinter            graphlib            pstats              urllib3\n",
      "_tokenize           greenlet            psutil              uu\n",
      "_tracemalloc        gzip                pty                 uuid\n",
      "_typing             h11                 ptyprocess          venv\n",
      "_uuid               h5py                pure_eval           w3lib\n",
      "_warnings           hashlib             py                  warnings\n",
      "_weakref            heapdict            py_compile          watchdog\n",
      "_weakrefset         heapq               pyarrow             wave\n",
      "_win32sysloader     hmac                pyasn1              wcwidth\n",
      "_winapi             holoviews           pyasn1_modules      weakref\n",
      "_winxptheme         html                pyclbr              webbrowser\n",
      "_wmi                http                pycodestyle         webencodings\n",
      "_xxinterpchannels   httpcore            pycosat             websocket\n",
      "_xxsubinterpreters  httpx               pycparser           werkzeug\n",
      "_yaml               hvplot              pyct                whatthepatch\n",
      "_zoneinfo           hyperlink           pycurl              wheel\n",
      "abc                 idlelib             pydantic            widgetsnbextension\n",
      "adodbapi            idna                pydantic_core       win2kras\n",
      "aext_assistant      imagecodecs         pydeck              win32api\n",
      "aext_assistant_server imageio             pydispatch          win32clipboard\n",
      "aext_core           imagesize           pydoc               win32com\n",
      "aext_core_server    imaplib             pydoc_data          win32con\n",
      "aext_panels         imblearn            pydocstyle          win32console\n",
      "aext_panels_server  imghdr              pyexpat             win32cred\n",
      "aext_share_notebook importlib           pyflakes            win32crypt\n",
      "aext_share_notebook_server importlib_metadata  pygments            win32cryptcon\n",
      "aext_shared         incremental         pylab               win32ctypes\n",
      "afxres              inflection          pylint              win32event\n",
      "aifc                iniconfig           pylint_venv         win32evtlog\n",
      "aiobotocore         inspect             pyls_spyder         win32evtlogutil\n",
      "aiohttp             intake              pylsp               win32file\n",
      "aioitertools        intervaltree        pylsp_black         win32gui\n",
      "aiosignal           io                  pylsp_jsonrpc       win32gui_struct\n",
      "alabaster           ipaddress           pymysql             win32help\n",
      "altair              ipykernel           pyodbc              win32inet\n",
      "anaconda_anon_usage ipykernel_launcher  pyparsing           win32inetcon\n",
      "anaconda_catalogs   ipython_genutils    pytest              win32job\n",
      "anaconda_cloud_auth ipywidgets          pythoncom           win32lz\n",
      "anaconda_navigator  isapi               pythonjsonlogger    win32net\n",
      "anaconda_project    isort               pytoolconfig        win32netcon\n",
      "annotated_types     isympy              pytz                win32pdh\n",
      "antigravity         itemadapter         pyviz_comms         win32pdhquery\n",
      "anyio               itemloaders         pywin               win32pdhutil\n",
      "appdirs             itertools           pywin32_bootstrap   win32pipe\n",
      "archspec            itsdangerous        pywin32_testutil    win32print\n",
      "argon2              jedi                pywintypes          win32process\n",
      "argparse            jellyfish           pywt                win32profile\n",
      "array               jinja2              qdarkstyle          win32ras\n",
      "arrow               jmespath            qstylizer           win32rcparser\n",
      "ast                 joblib              qtawesome           win32security\n",
      "astroid             json                qtconsole           win32service\n",
      "astropy             json5               qtpy                win32serviceutil\n",
      "astropy_iers_data   jsonpatch           queue               win32timezone\n",
      "asttokens           jsonpointer         queuelib            win32trace\n",
      "async_lru           jsonschema          quopri              win32traceutil\n",
      "asyncio             jsonschema_specifications random              win32transaction\n",
      "atexit              jupyter             rasutil             win32ts\n",
      "atomicwrites        jupyter_client      re                  win32ui\n",
      "attr                jupyter_console     referencing         win32uiole\n",
      "attrs               jupyter_core        regcheck            win32verstamp\n",
      "audioop             jupyter_events      regex               win32wnet\n",
      "automat             jupyter_lsp         regutil             win_inet_pton\n",
      "autopep8            jupyter_server      repo_cli            winerror\n",
      "babel               jupyter_server_terminals reprlib             winioctlcon\n",
      "base64              jupyterlab          requests            winnt\n",
      "bcrypt              jupyterlab_plotly   requests_file       winperf\n",
      "bdb                 jupyterlab_pygments requests_toolbelt   winpty\n",
      "binaryornot         jupyterlab_server   rfc3339_validator   winreg\n",
      "binascii            jupyterlab_widgets  rfc3986_validator   winsound\n",
      "binstar_client      jwt                 rich                winxpgui\n",
      "bisect              keyring             rlcompleter         winxptheme\n",
      "black               keyword             rope                wrapt\n",
      "blackd              kiwisolver          rpds                wsgiref\n",
      "bleach              lazy_loader         rtree               xarray\n",
      "blib2to3            lazy_object_proxy   ruamel_yaml         xdrlib\n",
      "blinker             lckr_jupyterlab_variableinspector runpy               xlwings\n",
      "bokeh               lib2to3             s3fs                xlwingsjs\n",
      "boltons             libarchive          sched               xml\n",
      "botocore            libmambapy          scipy               xmlrpc\n",
      "bottleneck          lief                scrapy              xxlimited\n",
      "brotli              linecache           seaborn             xxlimited_35\n",
      "bs4                 linkify_it          secrets             xxsubtype\n",
      "builtins            llvmlite            select              xyzservices\n",
      "bz2                 lmdb                selectors           yaml\n",
      "cProfile            locale              semver              yapf\n",
      "cachetools          locket              send2trash          yapf_third_party\n",
      "calendar            logging             service_identity    yapftests\n",
      "certifi             lxml                servicemanager      yarl\n",
      "cffi                lz4                 setuptools          zict\n",
      "cgi                 lzma                shelve              zipapp\n",
      "cgitb               mailbox             shlex               zipfile\n",
      "chardet             mailcap             shutil              zipimport\n",
      "charset_normalizer  markdown            signal              zipp\n",
      "chunk               markdown_it         sipbuild            zlib\n",
      "click               markupsafe          site                zmq\n",
      "cloudpickle         marshal             six                 zoneinfo\n",
      "cmath               math                skimage             zope\n",
      "cmd                 matplotlib          sklearn             zstandard\n",
      "code                matplotlib_inline   slugify             \n",
      "codecs              mccabe              smart_open          \n",
      "\n",
      "Enter any module name to get more help.  Or, type \"modules spam\" to search\n",
      "for modules whose name or summary contain the string \"spam\".\n",
      "\n"
     ]
    }
   ],
   "source": [
    "help('modules') # this might take a while"
   ]
  },
  {
   "cell_type": "markdown",
   "id": "7e7ff785",
   "metadata": {},
   "source": [
    "Alternatively, the `dir()` function is a built-in function that can be used to **list all the function names (or variable names) in a module**:\n",
    "\n",
    "`dir(module_name)`"
   ]
  },
  {
   "cell_type": "code",
   "execution_count": 18,
   "id": "1d2326d0",
   "metadata": {},
   "outputs": [
    {
     "name": "stdout",
     "output_type": "stream",
     "text": [
      "The square root of 81 is equal to 9.0\n",
      "Functions in the math module: ['__doc__', '__loader__', '__name__', '__package__', '__spec__', 'acos', 'acosh', 'asin', 'asinh', 'atan', 'atan2', 'atanh', 'cbrt', 'ceil', 'comb', 'copysign', 'cos', 'cosh', 'degrees', 'dist', 'e', 'erf', 'erfc', 'exp', 'exp2', 'expm1', 'fabs', 'factorial', 'floor', 'fmod', 'frexp', 'fsum', 'gamma', 'gcd', 'hypot', 'inf', 'isclose', 'isfinite', 'isinf', 'isnan', 'isqrt', 'lcm', 'ldexp', 'lgamma', 'log', 'log10', 'log1p', 'log2', 'modf', 'nan', 'nextafter', 'perm', 'pi', 'pow', 'prod', 'radians', 'remainder', 'sin', 'sinh', 'sqrt', 'sumprod', 'tan', 'tanh', 'tau', 'trunc', 'ulp']\n"
     ]
    }
   ],
   "source": [
    "# Import math module \n",
    "import math \n",
    "\n",
    "# Use the sqrt function in the math module\n",
    "x = math.sqrt(81)\n",
    "print('The square root of 81 is equal to {}'.format(x))\n",
    "\n",
    "# List all functions in math module \n",
    "list_all= dir(math)\n",
    "print('Functions in the math module: {}'.format(list_all))"
   ]
  },
  {
   "cell_type": "markdown",
   "id": "e9956efe",
   "metadata": {
    "tags": []
   },
   "source": [
    "## Summary\n",
    "\n",
    "In this train, we learned how to create, import, and use modules. We also explored the use of built-in modules in Python and how to determine what functions are present within modules. "
   ]
  },
  {
   "cell_type": "markdown",
   "id": "26fd094b-0fee-46f1-a4b8-73766813c42b",
   "metadata": {
    "tags": []
   },
   "source": [
    "#  \n",
    "\n",
    "<div align=\"center\" style=\" font-size: 80%; text-align: center; margin: 0 auto\">\n",
    "<img src=\"https://raw.githubusercontent.com/Explore-AI/Pictures/master/ExploreAI_logos/EAI_Blue_Dark.png\"  style=\"width:200px\";/>\n",
    "</div>"
   ]
  },
  {
   "cell_type": "markdown",
   "id": "35931471",
   "metadata": {},
   "source": [
    "# my code"
   ]
  },
  {
   "cell_type": "code",
   "execution_count": 80,
   "id": "4f140c68",
   "metadata": {},
   "outputs": [],
   "source": [
    "content = \"\"\"\n",
    "myvariable = 'Hello world!'\n",
    "\n",
    "def greating(myvariable):\n",
    "    print(f'You wrote {myvariable}')\n",
    "\n",
    "class Test:\n",
    "    def __init__(self, output):\n",
    "        self.output = output\n",
    "\n",
    "    def display(self):\n",
    "        print(self.output)\n",
    "\n",
    "\"\"\"\n",
    "\n",
    "with open('./clomodule.py', 'w') as fp:\n",
    "    fp.write(content)"
   ]
  },
  {
   "cell_type": "code",
   "execution_count": 83,
   "id": "7502957d",
   "metadata": {},
   "outputs": [
    {
     "name": "stdout",
     "output_type": "stream",
     "text": [
      "Jane Clovis\n"
     ]
    }
   ],
   "source": [
    "#import importlib\n",
    "#importlib.reload(clomodule)  # Reload the module to ensure it's the latest version\n",
    "from clomodule import Test\n",
    "name = Test(\"Jane Clovis\")\n",
    "newname = Test(\"kban\")\n",
    "name.display()"
   ]
  },
  {
   "cell_type": "markdown",
   "id": "81f7fbb8",
   "metadata": {},
   "source": []
  }
 ],
 "metadata": {
  "kernelspec": {
   "display_name": "Python 3 (ipykernel)",
   "language": "python",
   "name": "python3"
  },
  "language_info": {
   "codemirror_mode": {
    "name": "ipython",
    "version": 3
   },
   "file_extension": ".py",
   "mimetype": "text/x-python",
   "name": "python",
   "nbconvert_exporter": "python",
   "pygments_lexer": "ipython3",
   "version": "3.12.4"
  }
 },
 "nbformat": 4,
 "nbformat_minor": 5
}
