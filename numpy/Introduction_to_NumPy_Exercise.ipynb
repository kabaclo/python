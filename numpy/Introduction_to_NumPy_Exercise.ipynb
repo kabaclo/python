{
 "cells": [
  {
   "cell_type": "markdown",
   "id": "cd88ea27",
   "metadata": {},
   "source": [
    "<div align=\"center\" style=\" font-size: 80%; text-align: center; margin: 0 auto\">\n",
    "<img src=\"https://raw.githubusercontent.com/Explore-AI/Pictures/master/Python-Notebook-Banners/Exercise.png\"  style=\"display: block; margin-left: auto; margin-right: auto;\";/>\n",
    "</div>"
   ]
  },
  {
   "cell_type": "markdown",
   "id": "f662d169",
   "metadata": {},
   "source": [
    "# Exercise: Introduction to NumPy\n",
    "© ExploreAI Academy"
   ]
  },
  {
   "cell_type": "markdown",
   "id": "26af890c",
   "metadata": {},
   "source": [
    "In this notebook, we explore the fundamentals of NumPy for efficient data manipulation and analysis in Python.\n"
   ]
  },
  {
   "cell_type": "markdown",
   "id": "2d230d14",
   "metadata": {
    "tags": []
   },
   "source": [
    "## Learning objectives\n",
    "\n",
    "In this train, we will learn:\n",
    "- How to create, reshape, and manipulate arrays using NumPy.\n",
    "- How to access and modify elements in NumPy arrays.\n",
    "- How to apply key NumPy functions to analyse real-world problems."
   ]
  },
  {
   "cell_type": "markdown",
   "id": "de45a481",
   "metadata": {},
   "source": [
    "## Exercises"
   ]
  },
  {
   "cell_type": "code",
   "execution_count": 1,
   "metadata": {},
   "outputs": [],
   "source": [
    "import numpy as np"
   ]
  },
  {
   "cell_type": "markdown",
   "id": "5a0b7683",
   "metadata": {
    "tags": []
   },
   "source": [
    "### Exercise 1\n",
    "\n",
    "Given a 2D NumPy array, `pollution_data`, representing daily air quality index values of a city for a week (rows for days and columns for different pollutants), write a code snippet to return the day (row) with the highest average pollution level."
   ]
  },
  {
   "cell_type": "code",
   "execution_count": 3,
   "metadata": {},
   "outputs": [],
   "source": [
    "pollution_data = np.array([[45, 65, 70], [55, 60, 50], [60, 58, 67]])"
   ]
  },
  {
   "cell_type": "code",
   "execution_count": 16,
   "id": "1a44f9af",
   "metadata": {},
   "outputs": [
    {
     "name": "stdout",
     "output_type": "stream",
     "text": [
      "[60.         55.         61.66666667]\n",
      "2\n",
      "Row with the highest average: [60 58 67]\n"
     ]
    }
   ],
   "source": [
    "# Data array\n",
    "pollution_data = np.array([[45, 65, 70], [55, 60, 50], [60, 58, 67]])\n",
    "\n",
    "# Calculate the average for each row\n",
    "row_averages = np.mean(pollution_data, axis=1)\n",
    "\n",
    "print(row_averages)\n",
    "\n",
    "# Find the index of the row with the highest average\n",
    "max_index = np.argmax(row_averages)\n",
    "\n",
    "print(max_index)\n",
    "\n",
    "# Select the row with the highest average\n",
    "row_with_highest_avg = pollution_data[max_index]\n",
    "\n",
    "# Output the result\n",
    "print(\"Row with the highest average:\", row_with_highest_avg)"
   ]
  },
  {
   "cell_type": "code",
   "execution_count": 6,
   "id": "12bfa993",
   "metadata": {},
   "outputs": [
    {
     "data": {
      "text/plain": [
       "array([[45, 65, 70],\n",
       "       [55, 60, 50],\n",
       "       [60, 58, 67]])"
      ]
     },
     "execution_count": 6,
     "metadata": {},
     "output_type": "execute_result"
    }
   ],
   "source": [
    "pollution_data"
   ]
  },
  {
   "cell_type": "code",
   "execution_count": 9,
   "id": "c2ee76ec",
   "metadata": {},
   "outputs": [],
   "source": [
    "# insert code here\n",
    "highest_pollution_data = np.argmax(pollution_data.mean(axis=1))"
   ]
  },
  {
   "cell_type": "code",
   "execution_count": 10,
   "id": "c82262ba",
   "metadata": {},
   "outputs": [
    {
     "data": {
      "text/plain": [
       "2"
      ]
     },
     "execution_count": 10,
     "metadata": {},
     "output_type": "execute_result"
    }
   ],
   "source": [
    "highest_pollution_data"
   ]
  },
  {
   "cell_type": "code",
   "execution_count": 11,
   "id": "b13b74d3",
   "metadata": {},
   "outputs": [
    {
     "data": {
      "text/plain": [
       "array([60, 58, 67])"
      ]
     },
     "execution_count": 11,
     "metadata": {},
     "output_type": "execute_result"
    }
   ],
   "source": [
    "pollution_data[highest_pollution_data]"
   ]
  },
  {
   "cell_type": "markdown",
   "id": "dc9b7dc6",
   "metadata": {},
   "source": [
    "### Exercise 2\n",
    "\n",
    "A forest department is monitoring deforestation by analysing satellite data of five similarly sized regions. When the monitoring started, each region had full forest coverage (i.e. 100). The most recent data collected has been stored in a 1D NumPy array, `forest_coverage`, where each element represents the percentage of forest cover in different regions. Write code to calculate the total percentage of coverage **lost**, if each 1% reduction in forest cover equals 100 square kilometres. "
   ]
  },
  {
   "cell_type": "code",
   "execution_count": 28,
   "metadata": {},
   "outputs": [],
   "source": [
    "forest_coverage = np.array([70, 80, 65, 90, 85])"
   ]
  },
  {
   "cell_type": "code",
   "execution_count": 29,
   "id": "0a000a73",
   "metadata": {},
   "outputs": [
    {
     "data": {
      "text/plain": [
       "array([70, 80, 65, 90, 85])"
      ]
     },
     "execution_count": 29,
     "metadata": {},
     "output_type": "execute_result"
    }
   ],
   "source": [
    "forest_coverage"
   ]
  },
  {
   "cell_type": "code",
   "execution_count": 30,
   "id": "ae48fab0",
   "metadata": {},
   "outputs": [],
   "source": [
    "# insert code here\n",
    "deforestation_rate = (100 - forest_coverage)"
   ]
  },
  {
   "cell_type": "code",
   "execution_count": 33,
   "id": "8c6ed015",
   "metadata": {},
   "outputs": [],
   "source": [
    "totallost = deforestation_rate.sum()"
   ]
  },
  {
   "cell_type": "code",
   "execution_count": 34,
   "id": "b03a8976",
   "metadata": {},
   "outputs": [
    {
     "data": {
      "text/plain": [
       "110"
      ]
     },
     "execution_count": 34,
     "metadata": {},
     "output_type": "execute_result"
    }
   ],
   "source": [
    "totallost"
   ]
  },
  {
   "cell_type": "markdown",
   "metadata": {},
   "source": [
    "### Exercise 3\n",
    "\n",
    "For a study on water conservation, we have a 2D NumPy array, `water_quality`, representing different water quality parameters (columns) for various water bodies (rows). Write code to find the water body index (row index) with the worst average quality parameter."
   ]
  },
  {
   "cell_type": "code",
   "execution_count": 36,
   "metadata": {},
   "outputs": [],
   "source": [
    "water_quality = np.array([[7.8, 6.5, 8.0], [5.4, 7.2, 6.5]])"
   ]
  },
  {
   "cell_type": "code",
   "execution_count": 39,
   "metadata": {},
   "outputs": [],
   "source": [
    "# insert code here\n",
    "\n",
    "worst_body_index = np.argmin(water_quality.mean(axis = 1))"
   ]
  },
  {
   "cell_type": "code",
   "execution_count": 40,
   "id": "9cdf40b3",
   "metadata": {},
   "outputs": [
    {
     "data": {
      "text/plain": [
       "1"
      ]
     },
     "execution_count": 40,
     "metadata": {},
     "output_type": "execute_result"
    }
   ],
   "source": [
    "worst_body_index"
   ]
  },
  {
   "cell_type": "markdown",
   "metadata": {},
   "source": [
    "### Exercise 4\n",
    "\n",
    "Biologists tracking caracal movement have recorded the number of caracals spotted in different regions in a 2D NumPy array, `animal_sightings`. Each row represents a different region, and columns represent different days. Write a code snippet to find the index of the region with the highest average number of sightings."
   ]
  },
  {
   "cell_type": "code",
   "execution_count": 42,
   "metadata": {},
   "outputs": [],
   "source": [
    "animal_sightings = np.array([[5, 7, 8], [3, 4, 6], [9, 10, 7]])"
   ]
  },
  {
   "cell_type": "code",
   "execution_count": 44,
   "metadata": {},
   "outputs": [],
   "source": [
    "# insert code here\n",
    "highest_avg_sightings = np.argmax(animal_sightings.mean(axis=1))"
   ]
  },
  {
   "cell_type": "code",
   "execution_count": 45,
   "id": "e4b90b6a",
   "metadata": {},
   "outputs": [
    {
     "data": {
      "text/plain": [
       "2"
      ]
     },
     "execution_count": 45,
     "metadata": {},
     "output_type": "execute_result"
    }
   ],
   "source": [
    "highest_avg_sightings"
   ]
  },
  {
   "cell_type": "markdown",
   "metadata": {},
   "source": [
    "### Exercise 5\n",
    "\n",
    "`np.reshape()` allows us to change the shape of an array without changing its data. For example, we can reshape a 1D array into a 2D array (matrix) or vice versa, as long as the total number of elements remains the same. Remember to read more about functions in the NumPy documentation if anything is unclear.\n",
    "\n",
    "Biologists have collected data on bird sightings in a region over a month, stored in a 1D NumPy array where each element represents the number of sightings on a particular day. Reshape this data into a 2D array (matrix) representing weeks and days (assume 4 weeks in a month, 7 days per week), and calculate the total sightings for each week."
   ]
  },
  {
   "cell_type": "code",
   "execution_count": 48,
   "metadata": {},
   "outputs": [],
   "source": [
    "bird_sightings = np.array([3, 4, 2, 5, 1, 0, 4, 3, 5, 2, 1, 7, 8, 1, 2, 3, 4, 1, 0, 5, 6, 2, 3, 4, 1, 4, 6, 7])"
   ]
  },
  {
   "cell_type": "code",
   "execution_count": 53,
   "id": "d0175b62",
   "metadata": {},
   "outputs": [
    {
     "data": {
      "text/plain": [
       "(28,)"
      ]
     },
     "execution_count": 53,
     "metadata": {},
     "output_type": "execute_result"
    }
   ],
   "source": [
    "bird_sightings.shape"
   ]
  },
  {
   "cell_type": "code",
   "execution_count": 49,
   "metadata": {},
   "outputs": [],
   "source": [
    "# insert code here\n",
    "reshaped_bird_sightings = np.reshape(bird_sightings,(4,7))"
   ]
  },
  {
   "cell_type": "code",
   "execution_count": 50,
   "id": "7fda7441",
   "metadata": {},
   "outputs": [
    {
     "data": {
      "text/plain": [
       "array([[3, 4, 2, 5, 1, 0, 4],\n",
       "       [3, 5, 2, 1, 7, 8, 1],\n",
       "       [2, 3, 4, 1, 0, 5, 6],\n",
       "       [2, 3, 4, 1, 4, 6, 7]])"
      ]
     },
     "execution_count": 50,
     "metadata": {},
     "output_type": "execute_result"
    }
   ],
   "source": [
    "reshaped_bird_sightings"
   ]
  },
  {
   "cell_type": "code",
   "execution_count": 55,
   "id": "54b063ea",
   "metadata": {},
   "outputs": [],
   "source": [
    "sum_per_week_reshaped_bird_sightings = np.sum(reshaped_bird_sightings,axis=1)"
   ]
  },
  {
   "cell_type": "code",
   "execution_count": 56,
   "id": "933c12b5",
   "metadata": {},
   "outputs": [
    {
     "data": {
      "text/plain": [
       "array([19, 27, 21, 27])"
      ]
     },
     "execution_count": 56,
     "metadata": {},
     "output_type": "execute_result"
    }
   ],
   "source": [
    "sum_per_week_reshaped_bird_sightings"
   ]
  },
  {
   "cell_type": "markdown",
   "metadata": {},
   "source": [
    "### Exercise 6\n",
    "\n",
    "`np.transpose()` is a NumPy function that flips a matrix over its diagonal, switching the row and column indices of the array. This means that the first row becomes the first column, the second row becomes the second column, and so on.\n",
    "\n",
    "Meteorologists have recorded temperature and precipitation data over a year in a 2D array (rows for months, columns for temperature and precipitation). Transpose the array so that rows represent temperature and precipitation, and columns represent months. Then calculate the average temperature and precipitation over the year."
   ]
  },
  {
   "cell_type": "code",
   "execution_count": 58,
   "metadata": {},
   "outputs": [],
   "source": [
    "climate_data = np.array([[22, 50], [25, 43], [28, 35], [30, 20], [27, 25], [25, 30], [23, 40], [24, 55], [22, 60], [20, 65], [18, 70], [22, 58]])"
   ]
  },
  {
   "cell_type": "code",
   "execution_count": 59,
   "metadata": {},
   "outputs": [],
   "source": [
    "# insert code here\n",
    "transposed_climate_data = np.transpose(climate_data)"
   ]
  },
  {
   "cell_type": "code",
   "execution_count": 60,
   "id": "20cae64a",
   "metadata": {},
   "outputs": [
    {
     "data": {
      "text/plain": [
       "array([[22, 25, 28, 30, 27, 25, 23, 24, 22, 20, 18, 22],\n",
       "       [50, 43, 35, 20, 25, 30, 40, 55, 60, 65, 70, 58]])"
      ]
     },
     "execution_count": 60,
     "metadata": {},
     "output_type": "execute_result"
    }
   ],
   "source": [
    "transposed_climate_data"
   ]
  },
  {
   "cell_type": "code",
   "execution_count": 61,
   "id": "3a72d1ca",
   "metadata": {},
   "outputs": [],
   "source": [
    "average_climate_data = transposed_climate_data.mean(axis=1)"
   ]
  },
  {
   "cell_type": "code",
   "execution_count": 62,
   "id": "7f7afe6d",
   "metadata": {},
   "outputs": [
    {
     "data": {
      "text/plain": [
       "array([23.83333333, 45.91666667])"
      ]
     },
     "execution_count": 62,
     "metadata": {},
     "output_type": "execute_result"
    }
   ],
   "source": [
    "average_climate_data"
   ]
  },
  {
   "cell_type": "markdown",
   "id": "555dea0d",
   "metadata": {},
   "source": [
    "## Solutions"
   ]
  },
  {
   "cell_type": "markdown",
   "id": "9ff8f391",
   "metadata": {},
   "source": [
    "### Exercise 1\n",
    "\n",
    "`pollution_data.mean(axis=1)` calculates the average pollution level for each day (row). `np.argmax` finds the index of the day with the highest average pollution level."
   ]
  },
  {
   "cell_type": "code",
   "execution_count": null,
   "metadata": {},
   "outputs": [],
   "source": [
    "import numpy as np"
   ]
  },
  {
   "cell_type": "code",
   "execution_count": null,
   "id": "ad52ad95",
   "metadata": {},
   "outputs": [],
   "source": [
    "pollution_data = np.array([[45, 65, 70], [55, 60, 50], [60, 58, 67]])\n",
    "\n",
    "most_polluted_day_index = np.argmax(pollution_data.mean(axis=1))\n",
    "\n",
    "print(pollution_data[most_polluted_day_index])"
   ]
  },
  {
   "cell_type": "markdown",
   "id": "a10363b6",
   "metadata": {},
   "source": [
    "### Exercise 2\n",
    "\n",
    "`100 - forest_coverage` calculates the proportion of deforestation for each region. Summing these loss values and multiplying them by 100 (conversion to square kilometres) gives the total forest cover lost in square kilometres.\n"
   ]
  },
  {
   "cell_type": "code",
   "execution_count": 32,
   "id": "09386d51",
   "metadata": {},
   "outputs": [
    {
     "name": "stdout",
     "output_type": "stream",
     "text": [
      "11000\n"
     ]
    }
   ],
   "source": [
    "forest_coverage = np.array([70, 80, 65, 90, 85])\n",
    "\n",
    "total_forest_cover_lost = (100 - forest_coverage).sum() * 100\n",
    "\n",
    "print(total_forest_cover_lost)"
   ]
  },
  {
   "cell_type": "markdown",
   "metadata": {},
   "source": [
    "### Exercise 3\n",
    "\n",
    "`water_quality.mean(axis=1)` computes the average quality parameter for each water body (row). `np.argmin` finds the index of the water body with the worst average quality.\n"
   ]
  },
  {
   "cell_type": "code",
   "execution_count": 41,
   "metadata": {},
   "outputs": [
    {
     "name": "stdout",
     "output_type": "stream",
     "text": [
      "1\n"
     ]
    }
   ],
   "source": [
    "water_quality = np.array([[7.8, 6.5, 8.0], [5.4, 7.2, 6.5]])\n",
    "\n",
    "worst_water_quality_index = np.argmin(water_quality.mean(axis=1))\n",
    "\n",
    "print(worst_water_quality_index)"
   ]
  },
  {
   "cell_type": "markdown",
   "metadata": {},
   "source": [
    "### Exercise 4\n",
    "\n",
    "`animal_sightings.mean(axis=1)` computes the average number of sightings per region. `np.argmax` finds the index of the region with the highest average.\n"
   ]
  },
  {
   "cell_type": "code",
   "execution_count": 46,
   "metadata": {},
   "outputs": [
    {
     "name": "stdout",
     "output_type": "stream",
     "text": [
      "2\n"
     ]
    }
   ],
   "source": [
    "animal_sightings = np.array([[5, 7, 8], [3, 4, 6], [9, 10, 7]])\n",
    "\n",
    "highest_sightings_region_index = np.argmax(animal_sightings.mean(axis=1))\n",
    "\n",
    "print(highest_sightings_region_index)"
   ]
  },
  {
   "cell_type": "markdown",
   "metadata": {},
   "source": [
    "### Exercise 5\n",
    "\n",
    "The `reshape(4, 7)` function reshapes the 1D array into a 2D array with 4 rows (weeks) and 7 columns (days). `sum(axis=1)` calculates the sum along the rows (each week), providing the total bird sightings per week.\n"
   ]
  },
  {
   "cell_type": "code",
   "execution_count": 54,
   "metadata": {},
   "outputs": [
    {
     "name": "stdout",
     "output_type": "stream",
     "text": [
      "[19 27 21 27]\n"
     ]
    }
   ],
   "source": [
    "bird_sightings = np.array([3, 4, 2, 5, 1, 0, 4, 3, 5, 2, 1, 7, 8, 1, 2, 3, 4, 1, 0, 5, 6, 2, 3, 4, 1, 4, 6, 7])\n",
    "\n",
    "reshaped_sightings = bird_sightings.reshape(4, 7)\n",
    "total_sightings_per_week = reshaped_sightings.sum(axis=1)\n",
    "\n",
    "print(total_sightings_per_week)"
   ]
  },
  {
   "cell_type": "markdown",
   "metadata": {},
   "source": [
    "### Exercise 6\n",
    "\n",
    "`transpose()` changes the shape of `climate_data` so that rows and columns are swapped. Now, the first row represents temperatures and the second row represents precipitation for each month. The `mean()` function calculates the average value for each of these rows, giving the average temperature and precipitation over the year.\n"
   ]
  },
  {
   "cell_type": "code",
   "execution_count": 63,
   "metadata": {},
   "outputs": [
    {
     "name": "stdout",
     "output_type": "stream",
     "text": [
      "[[22 25 28 30 27 25 23 24 22 20 18 22]\n",
      " [50 43 35 20 25 30 40 55 60 65 70 58]]\n",
      "23.833333333333332\n",
      "45.916666666666664\n"
     ]
    }
   ],
   "source": [
    "climate_data = np.array([[22, 50], [25, 43], [28, 35], [30, 20], [27, 25], [25, 30], [23, 40], [24, 55], [22, 60], [20, 65], [18, 70], [22, 58]])\n",
    "\n",
    "transposed_climate_data = climate_data.transpose()\n",
    "print(transposed_climate_data)\n",
    "\n",
    "average_temperature = transposed_climate_data[0].mean()\n",
    "average_precipitation = transposed_climate_data[1].mean()\n",
    "\n",
    "print(average_temperature)\n",
    "print(average_precipitation)"
   ]
  },
  {
   "cell_type": "markdown",
   "id": "26fd094b-0fee-46f1-a4b8-73766813c42b",
   "metadata": {
    "tags": []
   },
   "source": [
    "#  \n",
    "\n",
    "<div align=\"center\" style=\" font-size: 80%; text-align: center; margin: 0 auto\">\n",
    "<img src=\"https://raw.githubusercontent.com/Explore-AI/Pictures/master/ExploreAI_logos/EAI_Blue_Dark.png\"  style=\"width:200px\";/>\n",
    "</div>"
   ]
  }
 ],
 "metadata": {
  "kernelspec": {
   "display_name": "base",
   "language": "python",
   "name": "python3"
  },
  "language_info": {
   "codemirror_mode": {
    "name": "ipython",
    "version": 3
   },
   "file_extension": ".py",
   "mimetype": "text/x-python",
   "name": "python",
   "nbconvert_exporter": "python",
   "pygments_lexer": "ipython3",
   "version": "3.12.4"
  }
 },
 "nbformat": 4,
 "nbformat_minor": 5
}
